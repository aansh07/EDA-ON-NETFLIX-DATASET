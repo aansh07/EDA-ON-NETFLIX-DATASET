{
 "cells": [
  {
   "cell_type": "code",
   "execution_count": 2,
   "id": "767edece-6e44-4686-bb97-74e33b58de94",
   "metadata": {},
   "outputs": [],
   "source": [
    "import pandas as pd\n",
    "import numpy as np\n",
    "import matplotlib.pyplot as plt\n",
    "%matplotlib inline\n",
    "import seaborn as sns"
   ]
  },
  {
   "cell_type": "code",
   "execution_count": 19,
   "id": "5e57e59f-b118-48f7-a110-235156623219",
   "metadata": {},
   "outputs": [],
   "source": [
    "df=pd.read_csv(\"netflix_titles_20211.csv\")"
   ]
  },
  {
   "cell_type": "code",
   "execution_count": 20,
   "id": "eb330097-2827-4f32-96e0-2d53aecec1dc",
   "metadata": {},
   "outputs": [
    {
     "data": {
      "text/html": [
       "<div>\n",
       "<style scoped>\n",
       "    .dataframe tbody tr th:only-of-type {\n",
       "        vertical-align: middle;\n",
       "    }\n",
       "\n",
       "    .dataframe tbody tr th {\n",
       "        vertical-align: top;\n",
       "    }\n",
       "\n",
       "    .dataframe thead th {\n",
       "        text-align: right;\n",
       "    }\n",
       "</style>\n",
       "<table border=\"1\" class=\"dataframe\">\n",
       "  <thead>\n",
       "    <tr style=\"text-align: right;\">\n",
       "      <th></th>\n",
       "      <th>show_id</th>\n",
       "      <th>type</th>\n",
       "      <th>title</th>\n",
       "      <th>director</th>\n",
       "      <th>cast</th>\n",
       "      <th>date_added</th>\n",
       "      <th>release_year</th>\n",
       "      <th>rating</th>\n",
       "      <th>duration</th>\n",
       "      <th>listed_in</th>\n",
       "      <th>description</th>\n",
       "    </tr>\n",
       "  </thead>\n",
       "  <tbody>\n",
       "    <tr>\n",
       "      <th>0</th>\n",
       "      <td>1</td>\n",
       "      <td>Movie</td>\n",
       "      <td>Dick Johnson Is Dead</td>\n",
       "      <td>Kirsten Johnson</td>\n",
       "      <td>NaN</td>\n",
       "      <td>September 25, 2021</td>\n",
       "      <td>2020</td>\n",
       "      <td>PG-13</td>\n",
       "      <td>90 min</td>\n",
       "      <td>Documentaries</td>\n",
       "      <td>As her father nears the end of his life, filmm...</td>\n",
       "    </tr>\n",
       "    <tr>\n",
       "      <th>1</th>\n",
       "      <td>2</td>\n",
       "      <td>TV Show</td>\n",
       "      <td>Blood &amp; Water</td>\n",
       "      <td>NaN</td>\n",
       "      <td>Ama Qamata, Khosi Ngema, Gail Mabalane, Thaban...</td>\n",
       "      <td>September 24, 2021</td>\n",
       "      <td>2021</td>\n",
       "      <td>TV-MA</td>\n",
       "      <td>2 Seasons</td>\n",
       "      <td>International TV Shows, TV Dramas, TV Mysteries</td>\n",
       "      <td>After crossing paths at a party, a Cape Town t...</td>\n",
       "    </tr>\n",
       "    <tr>\n",
       "      <th>2</th>\n",
       "      <td>3</td>\n",
       "      <td>TV Show</td>\n",
       "      <td>Ganglands</td>\n",
       "      <td>Julien Leclercq</td>\n",
       "      <td>Sami Bouajila, Tracy Gotoas, Samuel Jouy, Nabi...</td>\n",
       "      <td>September 24, 2021</td>\n",
       "      <td>2021</td>\n",
       "      <td>TV-MA</td>\n",
       "      <td>1 Season</td>\n",
       "      <td>Crime TV Shows, International TV Shows, TV Act...</td>\n",
       "      <td>To protect his family from a powerful drug lor...</td>\n",
       "    </tr>\n",
       "    <tr>\n",
       "      <th>3</th>\n",
       "      <td>4</td>\n",
       "      <td>TV Show</td>\n",
       "      <td>Jailbirds New Orleans</td>\n",
       "      <td>NaN</td>\n",
       "      <td>NaN</td>\n",
       "      <td>September 24, 2021</td>\n",
       "      <td>2021</td>\n",
       "      <td>TV-MA</td>\n",
       "      <td>1 Season</td>\n",
       "      <td>Docuseries, Reality TV</td>\n",
       "      <td>Feuds, flirtations and toilet talk go down amo...</td>\n",
       "    </tr>\n",
       "    <tr>\n",
       "      <th>4</th>\n",
       "      <td>5</td>\n",
       "      <td>TV Show</td>\n",
       "      <td>Kota Factory</td>\n",
       "      <td>NaN</td>\n",
       "      <td>Mayur More, Jitendra Kumar, Ranjan Raj, Alam K...</td>\n",
       "      <td>September 24, 2021</td>\n",
       "      <td>2021</td>\n",
       "      <td>TV-MA</td>\n",
       "      <td>2 Seasons</td>\n",
       "      <td>International TV Shows, Romantic TV Shows, TV ...</td>\n",
       "      <td>In a city of coaching centers known to train I...</td>\n",
       "    </tr>\n",
       "  </tbody>\n",
       "</table>\n",
       "</div>"
      ],
      "text/plain": [
       "   show_id     type                  title         director  \\\n",
       "0        1    Movie   Dick Johnson Is Dead  Kirsten Johnson   \n",
       "1        2  TV Show          Blood & Water              NaN   \n",
       "2        3  TV Show              Ganglands  Julien Leclercq   \n",
       "3        4  TV Show  Jailbirds New Orleans              NaN   \n",
       "4        5  TV Show           Kota Factory              NaN   \n",
       "\n",
       "                                                cast          date_added  \\\n",
       "0                                                NaN  September 25, 2021   \n",
       "1  Ama Qamata, Khosi Ngema, Gail Mabalane, Thaban...  September 24, 2021   \n",
       "2  Sami Bouajila, Tracy Gotoas, Samuel Jouy, Nabi...  September 24, 2021   \n",
       "3                                                NaN  September 24, 2021   \n",
       "4  Mayur More, Jitendra Kumar, Ranjan Raj, Alam K...  September 24, 2021   \n",
       "\n",
       "   release_year rating   duration  \\\n",
       "0          2020  PG-13     90 min   \n",
       "1          2021  TV-MA  2 Seasons   \n",
       "2          2021  TV-MA   1 Season   \n",
       "3          2021  TV-MA   1 Season   \n",
       "4          2021  TV-MA  2 Seasons   \n",
       "\n",
       "                                           listed_in  \\\n",
       "0                                      Documentaries   \n",
       "1    International TV Shows, TV Dramas, TV Mysteries   \n",
       "2  Crime TV Shows, International TV Shows, TV Act...   \n",
       "3                             Docuseries, Reality TV   \n",
       "4  International TV Shows, Romantic TV Shows, TV ...   \n",
       "\n",
       "                                         description  \n",
       "0  As her father nears the end of his life, filmm...  \n",
       "1  After crossing paths at a party, a Cape Town t...  \n",
       "2  To protect his family from a powerful drug lor...  \n",
       "3  Feuds, flirtations and toilet talk go down amo...  \n",
       "4  In a city of coaching centers known to train I...  "
      ]
     },
     "execution_count": 20,
     "metadata": {},
     "output_type": "execute_result"
    }
   ],
   "source": [
    "df.head()"
   ]
  },
  {
   "cell_type": "code",
   "execution_count": 21,
   "id": "025a0867-570b-48d8-b6d5-77363c379cf9",
   "metadata": {},
   "outputs": [
    {
     "data": {
      "text/html": [
       "<div>\n",
       "<style scoped>\n",
       "    .dataframe tbody tr th:only-of-type {\n",
       "        vertical-align: middle;\n",
       "    }\n",
       "\n",
       "    .dataframe tbody tr th {\n",
       "        vertical-align: top;\n",
       "    }\n",
       "\n",
       "    .dataframe thead th {\n",
       "        text-align: right;\n",
       "    }\n",
       "</style>\n",
       "<table border=\"1\" class=\"dataframe\">\n",
       "  <thead>\n",
       "    <tr style=\"text-align: right;\">\n",
       "      <th></th>\n",
       "      <th>show_id</th>\n",
       "      <th>release_year</th>\n",
       "    </tr>\n",
       "  </thead>\n",
       "  <tbody>\n",
       "    <tr>\n",
       "      <th>count</th>\n",
       "      <td>8807.000000</td>\n",
       "      <td>8807.000000</td>\n",
       "    </tr>\n",
       "    <tr>\n",
       "      <th>mean</th>\n",
       "      <td>4404.000000</td>\n",
       "      <td>2014.180198</td>\n",
       "    </tr>\n",
       "    <tr>\n",
       "      <th>std</th>\n",
       "      <td>2542.506244</td>\n",
       "      <td>8.819312</td>\n",
       "    </tr>\n",
       "    <tr>\n",
       "      <th>min</th>\n",
       "      <td>1.000000</td>\n",
       "      <td>1925.000000</td>\n",
       "    </tr>\n",
       "    <tr>\n",
       "      <th>25%</th>\n",
       "      <td>2202.500000</td>\n",
       "      <td>2013.000000</td>\n",
       "    </tr>\n",
       "    <tr>\n",
       "      <th>50%</th>\n",
       "      <td>4404.000000</td>\n",
       "      <td>2017.000000</td>\n",
       "    </tr>\n",
       "    <tr>\n",
       "      <th>75%</th>\n",
       "      <td>6605.500000</td>\n",
       "      <td>2019.000000</td>\n",
       "    </tr>\n",
       "    <tr>\n",
       "      <th>max</th>\n",
       "      <td>8807.000000</td>\n",
       "      <td>2021.000000</td>\n",
       "    </tr>\n",
       "  </tbody>\n",
       "</table>\n",
       "</div>"
      ],
      "text/plain": [
       "           show_id  release_year\n",
       "count  8807.000000   8807.000000\n",
       "mean   4404.000000   2014.180198\n",
       "std    2542.506244      8.819312\n",
       "min       1.000000   1925.000000\n",
       "25%    2202.500000   2013.000000\n",
       "50%    4404.000000   2017.000000\n",
       "75%    6605.500000   2019.000000\n",
       "max    8807.000000   2021.000000"
      ]
     },
     "execution_count": 21,
     "metadata": {},
     "output_type": "execute_result"
    }
   ],
   "source": [
    "df.describe()"
   ]
  },
  {
   "cell_type": "code",
   "execution_count": 22,
   "id": "f9351a0c-60f9-4bee-9e7f-6cb29dc6700c",
   "metadata": {},
   "outputs": [
    {
     "name": "stdout",
     "output_type": "stream",
     "text": [
      "<class 'pandas.core.frame.DataFrame'>\n",
      "RangeIndex: 8807 entries, 0 to 8806\n",
      "Data columns (total 11 columns):\n",
      " #   Column        Non-Null Count  Dtype \n",
      "---  ------        --------------  ----- \n",
      " 0   show_id       8807 non-null   int64 \n",
      " 1   type          8807 non-null   object\n",
      " 2   title         8807 non-null   object\n",
      " 3   director      6173 non-null   object\n",
      " 4   cast          7982 non-null   object\n",
      " 5   date_added    8797 non-null   object\n",
      " 6   release_year  8807 non-null   int64 \n",
      " 7   rating        8803 non-null   object\n",
      " 8   duration      8804 non-null   object\n",
      " 9   listed_in     8807 non-null   object\n",
      " 10  description   8807 non-null   object\n",
      "dtypes: int64(2), object(9)\n",
      "memory usage: 757.0+ KB\n"
     ]
    }
   ],
   "source": [
    "df.info()"
   ]
  },
  {
   "cell_type": "code",
   "execution_count": 23,
   "id": "8e9b74c1-3b95-4e49-8358-ffc17556787f",
   "metadata": {},
   "outputs": [
    {
     "data": {
      "text/html": [
       "<div>\n",
       "<style scoped>\n",
       "    .dataframe tbody tr th:only-of-type {\n",
       "        vertical-align: middle;\n",
       "    }\n",
       "\n",
       "    .dataframe tbody tr th {\n",
       "        vertical-align: top;\n",
       "    }\n",
       "\n",
       "    .dataframe thead th {\n",
       "        text-align: right;\n",
       "    }\n",
       "</style>\n",
       "<table border=\"1\" class=\"dataframe\">\n",
       "  <thead>\n",
       "    <tr style=\"text-align: right;\">\n",
       "      <th></th>\n",
       "      <th>show_id</th>\n",
       "      <th>type</th>\n",
       "      <th>title</th>\n",
       "      <th>director</th>\n",
       "      <th>cast</th>\n",
       "      <th>date_added</th>\n",
       "      <th>release_year</th>\n",
       "      <th>rating</th>\n",
       "      <th>duration</th>\n",
       "      <th>listed_in</th>\n",
       "      <th>description</th>\n",
       "    </tr>\n",
       "  </thead>\n",
       "  <tbody>\n",
       "    <tr>\n",
       "      <th>0</th>\n",
       "      <td>1</td>\n",
       "      <td>Movie</td>\n",
       "      <td>Dick Johnson Is Dead</td>\n",
       "      <td>Kirsten Johnson</td>\n",
       "      <td>NaN</td>\n",
       "      <td>September 25, 2021</td>\n",
       "      <td>2020</td>\n",
       "      <td>PG-13</td>\n",
       "      <td>90 min</td>\n",
       "      <td>Documentaries</td>\n",
       "      <td>As her father nears the end of his life, filmm...</td>\n",
       "    </tr>\n",
       "    <tr>\n",
       "      <th>1</th>\n",
       "      <td>2</td>\n",
       "      <td>TV Show</td>\n",
       "      <td>Blood &amp; Water</td>\n",
       "      <td>NaN</td>\n",
       "      <td>Ama Qamata, Khosi Ngema, Gail Mabalane, Thaban...</td>\n",
       "      <td>September 24, 2021</td>\n",
       "      <td>2021</td>\n",
       "      <td>TV-MA</td>\n",
       "      <td>2 Seasons</td>\n",
       "      <td>International TV Shows, TV Dramas, TV Mysteries</td>\n",
       "      <td>After crossing paths at a party, a Cape Town t...</td>\n",
       "    </tr>\n",
       "    <tr>\n",
       "      <th>2</th>\n",
       "      <td>3</td>\n",
       "      <td>TV Show</td>\n",
       "      <td>Ganglands</td>\n",
       "      <td>Julien Leclercq</td>\n",
       "      <td>Sami Bouajila, Tracy Gotoas, Samuel Jouy, Nabi...</td>\n",
       "      <td>September 24, 2021</td>\n",
       "      <td>2021</td>\n",
       "      <td>TV-MA</td>\n",
       "      <td>1 Season</td>\n",
       "      <td>Crime TV Shows, International TV Shows, TV Act...</td>\n",
       "      <td>To protect his family from a powerful drug lor...</td>\n",
       "    </tr>\n",
       "    <tr>\n",
       "      <th>3</th>\n",
       "      <td>4</td>\n",
       "      <td>TV Show</td>\n",
       "      <td>Jailbirds New Orleans</td>\n",
       "      <td>NaN</td>\n",
       "      <td>NaN</td>\n",
       "      <td>September 24, 2021</td>\n",
       "      <td>2021</td>\n",
       "      <td>TV-MA</td>\n",
       "      <td>1 Season</td>\n",
       "      <td>Docuseries, Reality TV</td>\n",
       "      <td>Feuds, flirtations and toilet talk go down amo...</td>\n",
       "    </tr>\n",
       "    <tr>\n",
       "      <th>4</th>\n",
       "      <td>5</td>\n",
       "      <td>TV Show</td>\n",
       "      <td>Kota Factory</td>\n",
       "      <td>NaN</td>\n",
       "      <td>Mayur More, Jitendra Kumar, Ranjan Raj, Alam K...</td>\n",
       "      <td>September 24, 2021</td>\n",
       "      <td>2021</td>\n",
       "      <td>TV-MA</td>\n",
       "      <td>2 Seasons</td>\n",
       "      <td>International TV Shows, Romantic TV Shows, TV ...</td>\n",
       "      <td>In a city of coaching centers known to train I...</td>\n",
       "    </tr>\n",
       "  </tbody>\n",
       "</table>\n",
       "</div>"
      ],
      "text/plain": [
       "   show_id     type                  title         director  \\\n",
       "0        1    Movie   Dick Johnson Is Dead  Kirsten Johnson   \n",
       "1        2  TV Show          Blood & Water              NaN   \n",
       "2        3  TV Show              Ganglands  Julien Leclercq   \n",
       "3        4  TV Show  Jailbirds New Orleans              NaN   \n",
       "4        5  TV Show           Kota Factory              NaN   \n",
       "\n",
       "                                                cast          date_added  \\\n",
       "0                                                NaN  September 25, 2021   \n",
       "1  Ama Qamata, Khosi Ngema, Gail Mabalane, Thaban...  September 24, 2021   \n",
       "2  Sami Bouajila, Tracy Gotoas, Samuel Jouy, Nabi...  September 24, 2021   \n",
       "3                                                NaN  September 24, 2021   \n",
       "4  Mayur More, Jitendra Kumar, Ranjan Raj, Alam K...  September 24, 2021   \n",
       "\n",
       "   release_year rating   duration  \\\n",
       "0          2020  PG-13     90 min   \n",
       "1          2021  TV-MA  2 Seasons   \n",
       "2          2021  TV-MA   1 Season   \n",
       "3          2021  TV-MA   1 Season   \n",
       "4          2021  TV-MA  2 Seasons   \n",
       "\n",
       "                                           listed_in  \\\n",
       "0                                      Documentaries   \n",
       "1    International TV Shows, TV Dramas, TV Mysteries   \n",
       "2  Crime TV Shows, International TV Shows, TV Act...   \n",
       "3                             Docuseries, Reality TV   \n",
       "4  International TV Shows, Romantic TV Shows, TV ...   \n",
       "\n",
       "                                         description  \n",
       "0  As her father nears the end of his life, filmm...  \n",
       "1  After crossing paths at a party, a Cape Town t...  \n",
       "2  To protect his family from a powerful drug lor...  \n",
       "3  Feuds, flirtations and toilet talk go down amo...  \n",
       "4  In a city of coaching centers known to train I...  "
      ]
     },
     "execution_count": 23,
     "metadata": {},
     "output_type": "execute_result"
    }
   ],
   "source": [
    "df.head()"
   ]
  },
  {
   "cell_type": "code",
   "execution_count": null,
   "id": "7116f558-e4a7-4488-a235-61b740105411",
   "metadata": {},
   "outputs": [],
   "source": [
    "df[\"month\"]=df[\"date_added\"].str.split(\" \").str[0]\n",
    "df[\"Day\"]=df[\"date_added\"].str.split(\" \").str[1]\n",
    "df[\"year\"]=df[\"date_added\"].str.split(\", \").str[1]"
   ]
  },
  {
   "cell_type": "code",
   "execution_count": 25,
   "id": "b7e1608d-f696-410c-8812-4da678abed09",
   "metadata": {},
   "outputs": [
    {
     "data": {
      "text/html": [
       "<div>\n",
       "<style scoped>\n",
       "    .dataframe tbody tr th:only-of-type {\n",
       "        vertical-align: middle;\n",
       "    }\n",
       "\n",
       "    .dataframe tbody tr th {\n",
       "        vertical-align: top;\n",
       "    }\n",
       "\n",
       "    .dataframe thead th {\n",
       "        text-align: right;\n",
       "    }\n",
       "</style>\n",
       "<table border=\"1\" class=\"dataframe\">\n",
       "  <thead>\n",
       "    <tr style=\"text-align: right;\">\n",
       "      <th></th>\n",
       "      <th>show_id</th>\n",
       "      <th>type</th>\n",
       "      <th>title</th>\n",
       "      <th>director</th>\n",
       "      <th>cast</th>\n",
       "      <th>date_added</th>\n",
       "      <th>release_year</th>\n",
       "      <th>rating</th>\n",
       "      <th>duration</th>\n",
       "      <th>listed_in</th>\n",
       "      <th>description</th>\n",
       "      <th>month</th>\n",
       "      <th>Day</th>\n",
       "      <th>year</th>\n",
       "    </tr>\n",
       "  </thead>\n",
       "  <tbody>\n",
       "    <tr>\n",
       "      <th>0</th>\n",
       "      <td>1</td>\n",
       "      <td>Movie</td>\n",
       "      <td>Dick Johnson Is Dead</td>\n",
       "      <td>Kirsten Johnson</td>\n",
       "      <td>NaN</td>\n",
       "      <td>September 25, 2021</td>\n",
       "      <td>2020</td>\n",
       "      <td>PG-13</td>\n",
       "      <td>90 min</td>\n",
       "      <td>Documentaries</td>\n",
       "      <td>As her father nears the end of his life, filmm...</td>\n",
       "      <td>September</td>\n",
       "      <td>25,</td>\n",
       "      <td>2021</td>\n",
       "    </tr>\n",
       "    <tr>\n",
       "      <th>1</th>\n",
       "      <td>2</td>\n",
       "      <td>TV Show</td>\n",
       "      <td>Blood &amp; Water</td>\n",
       "      <td>NaN</td>\n",
       "      <td>Ama Qamata, Khosi Ngema, Gail Mabalane, Thaban...</td>\n",
       "      <td>September 24, 2021</td>\n",
       "      <td>2021</td>\n",
       "      <td>TV-MA</td>\n",
       "      <td>2 Seasons</td>\n",
       "      <td>International TV Shows, TV Dramas, TV Mysteries</td>\n",
       "      <td>After crossing paths at a party, a Cape Town t...</td>\n",
       "      <td>September</td>\n",
       "      <td>24,</td>\n",
       "      <td>2021</td>\n",
       "    </tr>\n",
       "  </tbody>\n",
       "</table>\n",
       "</div>"
      ],
      "text/plain": [
       "   show_id     type                 title         director  \\\n",
       "0        1    Movie  Dick Johnson Is Dead  Kirsten Johnson   \n",
       "1        2  TV Show         Blood & Water              NaN   \n",
       "\n",
       "                                                cast          date_added  \\\n",
       "0                                                NaN  September 25, 2021   \n",
       "1  Ama Qamata, Khosi Ngema, Gail Mabalane, Thaban...  September 24, 2021   \n",
       "\n",
       "   release_year rating   duration  \\\n",
       "0          2020  PG-13     90 min   \n",
       "1          2021  TV-MA  2 Seasons   \n",
       "\n",
       "                                         listed_in  \\\n",
       "0                                    Documentaries   \n",
       "1  International TV Shows, TV Dramas, TV Mysteries   \n",
       "\n",
       "                                         description      month  Day  year  \n",
       "0  As her father nears the end of his life, filmm...  September  25,  2021  \n",
       "1  After crossing paths at a party, a Cape Town t...  September  24,  2021  "
      ]
     },
     "execution_count": 25,
     "metadata": {},
     "output_type": "execute_result"
    }
   ],
   "source": [
    "df.head(2)"
   ]
  },
  {
   "cell_type": "markdown",
   "id": "0bd839ea-0979-4528-ba64-6ea0b7d21057",
   "metadata": {},
   "source": [
    "       #numerical value= show_id,duration\n",
    "         #categorical values=type,release_year,rating,month,year,day,listed_in"
   ]
  },
  {
   "cell_type": "code",
   "execution_count": 30,
   "id": "187d6ad8-4073-49e1-b044-0619f8e49e15",
   "metadata": {},
   "outputs": [
    {
     "data": {
      "text/plain": [
       "count    8807.000000\n",
       "mean     4404.000000\n",
       "std      2542.506244\n",
       "min         1.000000\n",
       "25%      2202.500000\n",
       "50%      4404.000000\n",
       "75%      6605.500000\n",
       "max      8807.000000\n",
       "Name: show_id, dtype: float64"
      ]
     },
     "execution_count": 30,
     "metadata": {},
     "output_type": "execute_result"
    }
   ],
   "source": [
    "#Univariate Analysis on numerical_values.\n",
    "df[\"show_id\"].describe()"
   ]
  },
  {
   "cell_type": "code",
   "execution_count": 33,
   "id": "0a3af4f4-a96a-445f-851f-7301ec99b7f0",
   "metadata": {},
   "outputs": [
    {
     "data": {
      "text/plain": [
       "<Axes: ylabel='Frequency'>"
      ]
     },
     "execution_count": 33,
     "metadata": {},
     "output_type": "execute_result"
    },
    {
     "data": {
      "image/png": "[encoded data removed]",
      "text/plain": [
       "<Figure size 640x480 with 1 Axes>"
      ]
     },
     "metadata": {},
     "output_type": "display_data"
    }
   ],
   "source": [
    "df[\"show_id\"].plot(kind=\"hist\")"
   ]
  },
  {
   "cell_type": "code",
   "execution_count": 34,
   "id": "8b982b92-6920-40da-8f58-bf7cb31da500",
   "metadata": {},
   "outputs": [
    {
     "data": {
      "text/plain": [
       "<Axes: ylabel='show_id'>"
      ]
     },
     "execution_count": 34,
     "metadata": {},
     "output_type": "execute_result"
    },
    {
     "data": {
      "image/png": "[encoded data removed]",
      "text/plain": [
       "<Figure size 640x480 with 1 Axes>"
      ]
     },
     "metadata": {},
     "output_type": "display_data"
    }
   ],
   "source": [
    "sns.boxplot(data=df[\"show_id\"])"
   ]
  },
  {
   "cell_type": "code",
   "execution_count": 35,
   "id": "abdb9a95-171e-4ca7-80a4-dabb1341c05e",
   "metadata": {},
   "outputs": [
    {
     "data": {
      "text/plain": [
       "0.0"
      ]
     },
     "execution_count": 35,
     "metadata": {},
     "output_type": "execute_result"
    }
   ],
   "source": [
    "df[\"show_id\"].skew()"
   ]
  },
  {
   "cell_type": "markdown",
   "id": "eee1ea20-405f-4159-9837-8637dd25f61d",
   "metadata": {},
   "source": [
    "             #obervation\n",
    "             1.Perfectly skewed.\n",
    "             2.No outliers."
   ]
  },
  {
   "cell_type": "code",
   "execution_count": 43,
   "id": "6bb0c5c0-5002-4442-a5be-4ac79dbabf02",
   "metadata": {},
   "outputs": [],
   "source": [
    "#Univariate analysis on Categorical Variables.\n",
    "df_name=df[\"type\"].value_counts().index"
   ]
  },
  {
   "cell_type": "code",
   "execution_count": 44,
   "id": "3c1a8ef3-21c1-45f1-8840-190b8d6d5367",
   "metadata": {},
   "outputs": [],
   "source": [
    "df_values=df[\"type\"].value_counts().values"
   ]
  },
  {
   "cell_type": "markdown",
   "id": "9e77f21a-6553-460f-bfc1-5624964ab593",
   "metadata": {},
   "source": [
    "           Observation:->\n",
    "           1.Movies are more than Tv shows"
   ]
  },
  {
   "cell_type": "code",
   "execution_count": 48,
   "id": "7bdfe64b-e491-44d1-9f7c-13b0b6a335b9",
   "metadata": {},
   "outputs": [
    {
     "data": {
      "text/plain": [
       "([<matplotlib.patches.Wedge at 0x156a3687dd0>,\n",
       "  <matplotlib.patches.Wedge at 0x156a2177da0>],\n",
       " [Text(-0.6357552620136555, 0.897672126570692, 'Movie'),\n",
       "  Text(0.6357552620136554, -0.8976721265706921, 'TV Show')],\n",
       " [Text(-0.3467755974619939, 0.4896393417658319, '69.6151%'),\n",
       "  Text(0.3467755974619938, -0.48963934176583196, '30.3849%')])"
      ]
     },
     "execution_count": 48,
     "metadata": {},
     "output_type": "execute_result"
    },
    {
     "data": {
      "image/png": "[encoded data removed]",
      "text/plain": [
       "<Figure size 640x480 with 1 Axes>"
      ]
     },
     "metadata": {},
     "output_type": "display_data"
    }
   ],
   "source": [
    "plt.pie(df_values,labels=df_name,autopct=\"%1.4f%%\")"
   ]
  },
  {
   "cell_type": "code",
   "execution_count": 50,
   "id": "2375352b-27d2-4adf-95ff-d8ff382b3eb3",
   "metadata": {},
   "outputs": [
    {
     "data": {
      "text/plain": [
       "0"
      ]
     },
     "execution_count": 50,
     "metadata": {},
     "output_type": "execute_result"
    }
   ],
   "source": [
    "df[\"type\"].isnull().sum()"
   ]
  },
  {
   "cell_type": "markdown",
   "id": "790f386e-6819-450d-a40f-2421eac589e6",
   "metadata": {},
   "source": [
    "      Observation:->\n",
    "      1.Movies are more Than Tv shows.\n",
    "      2.There are no null values."
   ]
  },
  {
   "cell_type": "code",
   "execution_count": 54,
   "id": "505bcf7e-d744-4a61-ae0e-5cfc32b4e1b7",
   "metadata": {},
   "outputs": [],
   "source": [
    "df_name2=df[\"release_year\"].value_counts().index"
   ]
  },
  {
   "cell_type": "code",
   "execution_count": 56,
   "id": "080a9cc9-b888-4175-baae-81f1048ad368",
   "metadata": {},
   "outputs": [],
   "source": [
    "df_value2=df[\"release_year\"].value_counts().values"
   ]
  },
  {
   "cell_type": "code",
   "execution_count": 61,
   "id": "f889da65-35a1-4217-b019-edd4713a6e38",
   "metadata": {},
   "outputs": [
    {
     "data": {
      "text/plain": [
       "([<matplotlib.patches.Wedge at 0x156a3b56810>,\n",
       "  <matplotlib.patches.Wedge at 0x156a3b689e0>,\n",
       "  <matplotlib.patches.Wedge at 0x156a3bca180>,\n",
       "  <matplotlib.patches.Wedge at 0x156a3bca810>,\n",
       "  <matplotlib.patches.Wedge at 0x156a3bcaea0>],\n",
       " [Text(0.833068997834939, 0.718328646822811, '2018'),\n",
       "  Text(-0.5201907332799124, 0.9692273216380702, '2017'),\n",
       "  Text(-1.0778536297331354, -0.21961683193941509, '2019'),\n",
       "  Text(-0.15304527254670897, -1.0893012184658126, '2020'),\n",
       "  Text(0.9322256070180103, -0.5839138785984647, '2016')],\n",
       " [Text(0.4544012715463303, 0.391815625539715, '22.6501%'),\n",
       "  Text(-0.28374039997086126, 0.5286694481662201, '20.3791%'),\n",
       "  Text(-0.5879201616726192, -0.11979099923968094, '20.3397%'),\n",
       "  Text(-0.08347923957093215, -0.5941643009813522, '18.8191%'),\n",
       "  Text(0.5084866947370964, -0.31849847923552616, '17.8120%')])"
      ]
     },
     "execution_count": 61,
     "metadata": {},
     "output_type": "execute_result"
    },
    {
     "data": {
      "image/png": "[encoded data removed]",
      "text/plain": [
       "<Figure size 640x480 with 1 Axes>"
      ]
     },
     "metadata": {},
     "output_type": "display_data"
    }
   ],
   "source": [
    "plt.pie(df_value2[:5],labels=df_name2[:5],autopct=\"%1.4f%%\")"
   ]
  },
  {
   "cell_type": "code",
   "execution_count": 63,
   "id": "1f8031ff-aef8-45a9-b081-14dc0efd9a81",
   "metadata": {},
   "outputs": [
    {
     "data": {
      "text/plain": [
       "0"
      ]
     },
     "execution_count": 63,
     "metadata": {},
     "output_type": "execute_result"
    }
   ],
   "source": [
    "df[\"release_year\"].isnull().sum()"
   ]
  },
  {
   "cell_type": "markdown",
   "id": "0475a9a4-1d9b-4281-af78-5ddd9f99c198",
   "metadata": {},
   "source": [
    "        Observation:->\n",
    "        1.From the above data is shown that majority of Movies  and Tv shows are released in 2018\n",
    "        2.Then in 2017.\n",
    "        3.Then in 2019.\n",
    "        4.Then in 2020.\n",
    "        5.Then in 2018.\n",
    "\n",
    "\n",
    "       ALSO IT CONTAINS NO NULL VALUES."
   ]
  },
  {
   "cell_type": "code",
   "execution_count": 66,
   "id": "90807688-1d51-480c-a4d0-c781c72b71b7",
   "metadata": {},
   "outputs": [],
   "source": [
    "df_name3=df[\"rating\"].value_counts().index"
   ]
  },
  {
   "cell_type": "code",
   "execution_count": 67,
   "id": "7538fb80-9c9f-4b3c-b59f-caa65d8aac5b",
   "metadata": {},
   "outputs": [],
   "source": [
    "df_values3=df[\"rating\"].value_counts().values"
   ]
  },
  {
   "cell_type": "code",
   "execution_count": 70,
   "id": "46e30c65-a81e-4e4b-ba03-3da37f9af410",
   "metadata": {},
   "outputs": [
    {
     "data": {
      "text/plain": [
       "([<matplotlib.patches.Wedge at 0x156a3f1d6a0>,\n",
       "  <matplotlib.patches.Wedge at 0x156a3ef0320>,\n",
       "  <matplotlib.patches.Wedge at 0x156a3f1dfd0>,\n",
       "  <matplotlib.patches.Wedge at 0x156a3f1e600>,\n",
       "  <matplotlib.patches.Wedge at 0x156a3f1eb40>,\n",
       "  <matplotlib.patches.Wedge at 0x156a3f1f170>,\n",
       "  <matplotlib.patches.Wedge at 0x156a3f1f740>],\n",
       " [Text(0.36279300212376314, 1.0384513650672464, 'TV-MA'),\n",
       "  Text(-1.0860567768701925, -0.1745871627993558, 'TV-14'),\n",
       "  Text(-0.2695369775888713, -1.066466041518555, 'TV-PG'),\n",
       "  Text(0.4205605596914275, -1.016429444492845, 'R'),\n",
       "  Text(0.8537935387569155, -0.693568016258639, 'PG-13'),\n",
       "  Text(1.0275443611674822, -0.39262270162703444, 'TV-Y7'),\n",
       "  Text(1.0923254570212033, -0.1297115875449056, 'TV-Y')],\n",
       " [Text(0.19788709206750715, 0.5664280173094071, '39.3015%'),\n",
       "  Text(-0.5923946055655596, -0.09522936152692132, '26.4706%'),\n",
       "  Text(-0.1470201695939298, -0.5817087499192117, '10.5760%'),\n",
       "  Text(0.2293966689225968, -0.5544160606324608, '9.7917%'),\n",
       "  Text(0.4657055665946811, -0.37830982705016664, '6.0049%'),\n",
       "  Text(0.5604787424549902, -0.21415783725110968, '4.0931%'),\n",
       "  Text(0.595813885647929, -0.07075177502449397, '3.7623%')])"
      ]
     },
     "execution_count": 70,
     "metadata": {},
     "output_type": "execute_result"
    },
    {
     "data": {
      "image/png": "[encoded data removed]",
      "text/plain": [
       "<Figure size 640x480 with 1 Axes>"
      ]
     },
     "metadata": {},
     "output_type": "display_data"
    }
   ],
   "source": [
    "plt.pie(df_values3[:7],labels=df_name3[:7],autopct=\"%1.4f%%\")"
   ]
  },
  {
   "cell_type": "code",
   "execution_count": 71,
   "id": "e3611c71-df3f-4dad-aceb-c6817b033376",
   "metadata": {},
   "outputs": [
    {
     "data": {
      "text/plain": [
       "4"
      ]
     },
     "execution_count": 71,
     "metadata": {},
     "output_type": "execute_result"
    }
   ],
   "source": [
    "df[\"rating\"].isnull().sum()"
   ]
  },
  {
   "cell_type": "markdown",
   "id": "3ad40b48-4afd-44c4-bfa3-defdbee591d3",
   "metadata": {},
   "source": [
    "           OBSERVATION:->\n",
    "           1.Based on the above pie chart is shows that majority of rating ARE TV-MA.\n",
    "            indicate that a program is specifically designed to be viewed by adults and \n",
    "            is not suitable for children under 17 years old.\n",
    "           2.THEN IT IS TV-14.\n",
    "           3.THEN IT IS TV-PG.\n",
    "           4.THEN IT IS R-RATED."
   ]
  },
  {
   "cell_type": "code",
   "execution_count": 74,
   "id": "210dcbae-c37b-4519-aa8c-cf7b3fdc429b",
   "metadata": {},
   "outputs": [],
   "source": [
    "df_index=df[\"month\"].value_counts().index"
   ]
  },
  {
   "cell_type": "code",
   "execution_count": 77,
   "id": "dccfd88b-e5a9-44cb-b85c-01d7b96fcac4",
   "metadata": {},
   "outputs": [],
   "source": [
    "df_life=df[\"month\"].value_counts().values"
   ]
  },
  {
   "cell_type": "code",
   "execution_count": 80,
   "id": "04e21195-7333-4603-864f-f830d1b4a5c4",
   "metadata": {},
   "outputs": [
    {
     "data": {
      "text/plain": [
       "([<matplotlib.patches.Wedge at 0x156a4096810>,\n",
       "  <matplotlib.patches.Wedge at 0x156a4078ef0>,\n",
       "  <matplotlib.patches.Wedge at 0x156a4097440>],\n",
       " [Text(0.5178562496562547, 0.9704766378908659, 'July'),\n",
       "  Text(-1.097209074583628, -0.07830866268388711, 'December'),\n",
       "  Text(0.5856302764835232, -0.9311483121747213, 'September')],\n",
       " [Text(0.28246704526704797, 0.5293508933950177, '34%'),\n",
       "  Text(-0.5984776770456153, -0.04271381600939297, '33%'),\n",
       "  Text(0.3194346962637399, -0.5078990793680297, '32%')])"
      ]
     },
     "execution_count": 80,
     "metadata": {},
     "output_type": "execute_result"
    },
    {
     "data": {
      "image/png": "[encoded data removed]",
      "text/plain": [
       "<Figure size 640x480 with 1 Axes>"
      ]
     },
     "metadata": {},
     "output_type": "display_data"
    }
   ],
   "source": [
    "plt.pie(df_life[:3],labels=df_index[:3],autopct=\"%1.0f%%\")"
   ]
  },
  {
   "cell_type": "code",
   "execution_count": 81,
   "id": "6fcd50b2-e1b8-4fcc-9e55-8082fb9156bc",
   "metadata": {},
   "outputs": [
    {
     "data": {
      "text/plain": [
       "10"
      ]
     },
     "execution_count": 81,
     "metadata": {},
     "output_type": "execute_result"
    }
   ],
   "source": [
    "df[\"month\"].isnull().sum()"
   ]
  },
  {
   "cell_type": "markdown",
   "id": "1d784974-c0ee-40ab-94e0-06816800a98c",
   "metadata": {},
   "source": [
    "           OBSERVATION:->\n",
    "           1.July has that month in which mostly movie and tv shows start shooting.\n",
    "           2.Then DEC.\n",
    "           3.Then sept.\n",
    "           4.It contains Outliers.    "
   ]
  },
  {
   "cell_type": "code",
   "execution_count": 85,
   "id": "5297e280-01cc-47c3-8aeb-ddde7c495b43",
   "metadata": {},
   "outputs": [],
   "source": [
    "df_ok=df[\"year\"].value_counts().index"
   ]
  },
  {
   "cell_type": "code",
   "execution_count": 86,
   "id": "73b5f039-bc86-4806-ada2-eeba717a6548",
   "metadata": {},
   "outputs": [],
   "source": [
    "df_oo=df[\"year\"].value_counts().values"
   ]
  },
  {
   "cell_type": "code",
   "execution_count": 88,
   "id": "449dc7f8-70cd-45da-94fc-c25e8d7e6ecb",
   "metadata": {},
   "outputs": [
    {
     "data": {
      "text/plain": [
       "([<matplotlib.patches.Wedge at 0x156a40f90a0>,\n",
       "  <matplotlib.patches.Wedge at 0x156a40c84d0>,\n",
       "  <matplotlib.patches.Wedge at 0x156a40f9a60>,\n",
       "  <matplotlib.patches.Wedge at 0x156a40f9fa0>,\n",
       "  <matplotlib.patches.Wedge at 0x156a40fa600>,\n",
       "  <matplotlib.patches.Wedge at 0x156a40fab40>,\n",
       "  <matplotlib.patches.Wedge at 0x156a40fb170>,\n",
       "  <matplotlib.patches.Wedge at 0x156a40fb6e0>,\n",
       "  <matplotlib.patches.Wedge at 0x156a40942f0>,\n",
       "  <matplotlib.patches.Wedge at 0x156a40fbfe0>,\n",
       "  <matplotlib.patches.Wedge at 0x156a41385c0>,\n",
       "  <matplotlib.patches.Wedge at 0x156a4138bc0>,\n",
       "  <matplotlib.patches.Wedge at 0x156a41391c0>,\n",
       "  <matplotlib.patches.Wedge at 0x156a4139820>],\n",
       " [Text(0.8270183783869662, 0.7252865653038068, '2019'),\n",
       "  Text(-0.5656867678671095, 0.9433973079567607, '2020'),\n",
       "  Text(-1.0712154123071946, -0.24999508082265748, '2018'),\n",
       "  Text(-0.23754557365975307, -1.074044738562905, '2021'),\n",
       "  Text(0.7429842723206295, -0.8111561940120934, '2017'),\n",
       "  Text(1.065320224304625, -0.27403069114160183, '2016'),\n",
       "  Text(1.0973610972164456, -0.07614868558234734, '2015'),\n",
       "  Text(1.0994568450990325, -0.03456364802624628, '2014'),\n",
       "  Text(1.0998175587444228, -0.020033409032376454, '2011'),\n",
       "  Text(1.0999488647777147, -0.010606360083318604, '2013'),\n",
       "  Text(1.0999881454561429, -0.005106844030850332, '2012'),\n",
       "  Text(1.0999955106636832, -0.003142693071760182, '2009'),\n",
       "  Text(1.0999988776415346, -0.0015713648095244442, '2008'),\n",
       "  Text(1.0999999298436542, -0.0003928663332507547, '2010')],\n",
       " [Text(0.4511009336656179, 0.39561085380207633, '22.92%'),\n",
       "  Text(-0.3085564188366052, 0.5145803497945967, '21.36%'),\n",
       "  Text(-0.5842993158039244, -0.13636095317599498, '18.75%'),\n",
       "  Text(-0.12957031290531984, -0.5858425846706754, '17.03%'),\n",
       "  Text(0.4052641485385251, -0.44244883309750543, '13.50%'),\n",
       "  Text(0.5810837587116134, -0.14947128607723734, '4.88%'),\n",
       "  Text(0.5985605984816975, -0.04153564668128036, '0.93%'),\n",
       "  Text(0.5997037336903813, -0.01885289892340706, '0.27%'),\n",
       "  Text(0.5999004865878669, -0.010927314017659883, '0.15%'),\n",
       "  Text(0.5999721080605716, -0.005785287318173783, '0.13%'),\n",
       "  Text(0.5999935338851689, -0.002785551289554726, '0.03%'),\n",
       "  Text(0.5999975512710998, -0.001714196220960099, '0.02%'),\n",
       "  Text(0.5999993878044733, -0.0008571080779224241, '0.02%'),\n",
       "  Text(0.5999999617329023, -0.00021429072722768436, '0.01%')])"
      ]
     },
     "execution_count": 88,
     "metadata": {},
     "output_type": "execute_result"
    },
    {
     "data": {
      "image/png": "[encoded data removed]",
      "text/plain": [
       "<Figure size 640x480 with 1 Axes>"
      ]
     },
     "metadata": {},
     "output_type": "display_data"
    }
   ],
   "source": [
    "plt.pie(df_oo,labels=df_ok,autopct=\"%1.2f%%\")"
   ]
  },
  {
   "cell_type": "code",
   "execution_count": 89,
   "id": "9ee8add2-04e1-4b41-9017-c555b7d49e5b",
   "metadata": {},
   "outputs": [
    {
     "data": {
      "text/plain": [
       "10"
      ]
     },
     "execution_count": 89,
     "metadata": {},
     "output_type": "execute_result"
    }
   ],
   "source": [
    "df[\"year\"].isnull().sum()"
   ]
  },
  {
   "cell_type": "code",
   "execution_count": 93,
   "id": "68f73597-2e1a-40e3-8d32-3107e17513b7",
   "metadata": {},
   "outputs": [],
   "source": [
    "df_io=df[\"listed_in\"].value_counts().index"
   ]
  },
  {
   "cell_type": "code",
   "execution_count": 94,
   "id": "62468a49-b5eb-44cf-b0d3-8cee046c5464",
   "metadata": {},
   "outputs": [],
   "source": [
    "df_we=df[\"listed_in\"].value_counts().values"
   ]
  },
  {
   "cell_type": "code",
   "execution_count": 96,
   "id": "fb0fea3a-30f7-4e06-a390-4f56c06f3bb9",
   "metadata": {},
   "outputs": [
    {
     "data": {
      "text/plain": [
       "([<matplotlib.patches.Wedge at 0x156a4c45d00>,\n",
       "  <matplotlib.patches.Wedge at 0x1569dc386b0>,\n",
       "  <matplotlib.patches.Wedge at 0x156a4addc10>,\n",
       "  <matplotlib.patches.Wedge at 0x156a4adc6e0>,\n",
       "  <matplotlib.patches.Wedge at 0x156a4cc56d0>,\n",
       "  <matplotlib.patches.Wedge at 0x156a4cc6300>,\n",
       "  <matplotlib.patches.Wedge at 0x156a4cc40b0>,\n",
       "  <matplotlib.patches.Wedge at 0x156a4ce4a10>],\n",
       " [Text(0.9584193456742237, 0.5398447534591708, 'Dramas, International Movies'),\n",
       "  Text(0.039739504246520306, 1.0992819346292566, 'Documentaries'),\n",
       "  Text(-0.8921124347722212, 0.6435335296041532, 'Stand-Up Comedy'),\n",
       "  Text(-1.069342540349991, -0.2578886026908286, 'Comedies, Dramas, International Movies'),\n",
       "  Text(-0.6108842523018575, -0.914778896941551, 'Dramas, Independent Movies, International Movies'),\n",
       "  Text(0.08797534636124325, -1.096476328259128, \"Kids' TV\"),\n",
       "  Text(0.7056722708503431, -0.8438167136013129, 'Children & Family Movies'),\n",
       "  Text(1.0556814758394952, -0.30908998943567484, 'Children & Family Movies, Comedies')],\n",
       " [Text(0.5227741885495766, 0.29446077461409315, '16.33%'),\n",
       "  Text(0.021676093225374712, 0.5996083279795944, '16.19%'),\n",
       "  Text(-0.4866067826030297, 0.3510182888749926, '15.07%'),\n",
       "  Text(-0.5832777492818132, -0.14066651055863374, '12.36%'),\n",
       "  Text(-0.3332095921646495, -0.4989703074226641, '11.37%'),\n",
       "  Text(0.04798655256067813, -0.5980779972322516, '9.92%'),\n",
       "  Text(0.38491214773655075, -0.4602636619643525, '9.70%'),\n",
       "  Text(0.5758262595488155, -0.16859453969218624, '9.07%')])"
      ]
     },
     "execution_count": 96,
     "metadata": {},
     "output_type": "execute_result"
    },
    {
     "data": {
      "image/png": "[encoded data removed]",
      "text/plain": [
       "<Figure size 640x480 with 1 Axes>"
      ]
     },
     "metadata": {},
     "output_type": "display_data"
    }
   ],
   "source": [
    "plt.pie(df_we[:8],labels=df_io[:8],autopct=\"%1.2f%%\")"
   ]
  },
  {
   "cell_type": "code",
   "execution_count": 98,
   "id": "7dd95815-45e3-4587-8157-be3d70102170",
   "metadata": {},
   "outputs": [
    {
     "data": {
      "text/plain": [
       "0"
      ]
     },
     "execution_count": 98,
     "metadata": {},
     "output_type": "execute_result"
    }
   ],
   "source": [
    "df[\"listed_in\"].isnull().sum()"
   ]
  },
  {
   "cell_type": "code",
   "execution_count": 99,
   "id": "00c13df0-954f-496b-9deb-667e54b7e185",
   "metadata": {},
   "outputs": [],
   "source": [
    "#bivaraite analysis"
   ]
  },
  {
   "cell_type": "code",
   "execution_count": 101,
   "id": "b1f61a6f-f014-4615-adf5-45617433a5a6",
   "metadata": {},
   "outputs": [
    {
     "data": {
      "text/html": [
       "<div>\n",
       "<style scoped>\n",
       "    .dataframe tbody tr th:only-of-type {\n",
       "        vertical-align: middle;\n",
       "    }\n",
       "\n",
       "    .dataframe tbody tr th {\n",
       "        vertical-align: top;\n",
       "    }\n",
       "\n",
       "    .dataframe thead th {\n",
       "        text-align: right;\n",
       "    }\n",
       "</style>\n",
       "<table border=\"1\" class=\"dataframe\">\n",
       "  <thead>\n",
       "    <tr style=\"text-align: right;\">\n",
       "      <th></th>\n",
       "      <th>show_id</th>\n",
       "      <th>type</th>\n",
       "      <th>title</th>\n",
       "      <th>director</th>\n",
       "      <th>cast</th>\n",
       "      <th>date_added</th>\n",
       "      <th>release_year</th>\n",
       "      <th>rating</th>\n",
       "      <th>duration</th>\n",
       "      <th>listed_in</th>\n",
       "      <th>description</th>\n",
       "      <th>month</th>\n",
       "      <th>Day</th>\n",
       "      <th>year</th>\n",
       "    </tr>\n",
       "  </thead>\n",
       "  <tbody>\n",
       "    <tr>\n",
       "      <th>0</th>\n",
       "      <td>1</td>\n",
       "      <td>Movie</td>\n",
       "      <td>Dick Johnson Is Dead</td>\n",
       "      <td>Kirsten Johnson</td>\n",
       "      <td>NaN</td>\n",
       "      <td>September 25, 2021</td>\n",
       "      <td>2020</td>\n",
       "      <td>PG-13</td>\n",
       "      <td>90 min</td>\n",
       "      <td>Documentaries</td>\n",
       "      <td>As her father nears the end of his life, filmm...</td>\n",
       "      <td>September</td>\n",
       "      <td>25,</td>\n",
       "      <td>2021</td>\n",
       "    </tr>\n",
       "    <tr>\n",
       "      <th>1</th>\n",
       "      <td>2</td>\n",
       "      <td>TV Show</td>\n",
       "      <td>Blood &amp; Water</td>\n",
       "      <td>NaN</td>\n",
       "      <td>Ama Qamata, Khosi Ngema, Gail Mabalane, Thaban...</td>\n",
       "      <td>September 24, 2021</td>\n",
       "      <td>2021</td>\n",
       "      <td>TV-MA</td>\n",
       "      <td>2 Seasons</td>\n",
       "      <td>International TV Shows, TV Dramas, TV Mysteries</td>\n",
       "      <td>After crossing paths at a party, a Cape Town t...</td>\n",
       "      <td>September</td>\n",
       "      <td>24,</td>\n",
       "      <td>2021</td>\n",
       "    </tr>\n",
       "  </tbody>\n",
       "</table>\n",
       "</div>"
      ],
      "text/plain": [
       "   show_id     type                 title         director  \\\n",
       "0        1    Movie  Dick Johnson Is Dead  Kirsten Johnson   \n",
       "1        2  TV Show         Blood & Water              NaN   \n",
       "\n",
       "                                                cast          date_added  \\\n",
       "0                                                NaN  September 25, 2021   \n",
       "1  Ama Qamata, Khosi Ngema, Gail Mabalane, Thaban...  September 24, 2021   \n",
       "\n",
       "   release_year rating   duration  \\\n",
       "0          2020  PG-13     90 min   \n",
       "1          2021  TV-MA  2 Seasons   \n",
       "\n",
       "                                         listed_in  \\\n",
       "0                                    Documentaries   \n",
       "1  International TV Shows, TV Dramas, TV Mysteries   \n",
       "\n",
       "                                         description      month  Day  year  \n",
       "0  As her father nears the end of his life, filmm...  September  25,  2021  \n",
       "1  After crossing paths at a party, a Cape Town t...  September  24,  2021  "
      ]
     },
     "execution_count": 101,
     "metadata": {},
     "output_type": "execute_result"
    }
   ],
   "source": [
    "df.head(2)"
   ]
  },
  {
   "cell_type": "code",
   "execution_count": 102,
   "id": "43ea33cd-8dd5-4538-9aac-83ad324fa313",
   "metadata": {},
   "outputs": [],
   "source": [
    "df.drop(\"date_added\",axis=1,inplace=True)"
   ]
  },
  {
   "cell_type": "code",
   "execution_count": 103,
   "id": "e4a6481f-0ef4-4069-a816-fb295a2e270a",
   "metadata": {},
   "outputs": [
    {
     "data": {
      "text/html": [
       "<div>\n",
       "<style scoped>\n",
       "    .dataframe tbody tr th:only-of-type {\n",
       "        vertical-align: middle;\n",
       "    }\n",
       "\n",
       "    .dataframe tbody tr th {\n",
       "        vertical-align: top;\n",
       "    }\n",
       "\n",
       "    .dataframe thead th {\n",
       "        text-align: right;\n",
       "    }\n",
       "</style>\n",
       "<table border=\"1\" class=\"dataframe\">\n",
       "  <thead>\n",
       "    <tr style=\"text-align: right;\">\n",
       "      <th></th>\n",
       "      <th>show_id</th>\n",
       "      <th>type</th>\n",
       "      <th>title</th>\n",
       "      <th>director</th>\n",
       "      <th>cast</th>\n",
       "      <th>release_year</th>\n",
       "      <th>rating</th>\n",
       "      <th>duration</th>\n",
       "      <th>listed_in</th>\n",
       "      <th>description</th>\n",
       "      <th>month</th>\n",
       "      <th>Day</th>\n",
       "      <th>year</th>\n",
       "    </tr>\n",
       "  </thead>\n",
       "  <tbody>\n",
       "    <tr>\n",
       "      <th>0</th>\n",
       "      <td>1</td>\n",
       "      <td>Movie</td>\n",
       "      <td>Dick Johnson Is Dead</td>\n",
       "      <td>Kirsten Johnson</td>\n",
       "      <td>NaN</td>\n",
       "      <td>2020</td>\n",
       "      <td>PG-13</td>\n",
       "      <td>90 min</td>\n",
       "      <td>Documentaries</td>\n",
       "      <td>As her father nears the end of his life, filmm...</td>\n",
       "      <td>September</td>\n",
       "      <td>25,</td>\n",
       "      <td>2021</td>\n",
       "    </tr>\n",
       "    <tr>\n",
       "      <th>1</th>\n",
       "      <td>2</td>\n",
       "      <td>TV Show</td>\n",
       "      <td>Blood &amp; Water</td>\n",
       "      <td>NaN</td>\n",
       "      <td>Ama Qamata, Khosi Ngema, Gail Mabalane, Thaban...</td>\n",
       "      <td>2021</td>\n",
       "      <td>TV-MA</td>\n",
       "      <td>2 Seasons</td>\n",
       "      <td>International TV Shows, TV Dramas, TV Mysteries</td>\n",
       "      <td>After crossing paths at a party, a Cape Town t...</td>\n",
       "      <td>September</td>\n",
       "      <td>24,</td>\n",
       "      <td>2021</td>\n",
       "    </tr>\n",
       "  </tbody>\n",
       "</table>\n",
       "</div>"
      ],
      "text/plain": [
       "   show_id     type                 title         director  \\\n",
       "0        1    Movie  Dick Johnson Is Dead  Kirsten Johnson   \n",
       "1        2  TV Show         Blood & Water              NaN   \n",
       "\n",
       "                                                cast  release_year rating  \\\n",
       "0                                                NaN          2020  PG-13   \n",
       "1  Ama Qamata, Khosi Ngema, Gail Mabalane, Thaban...          2021  TV-MA   \n",
       "\n",
       "    duration                                        listed_in  \\\n",
       "0     90 min                                    Documentaries   \n",
       "1  2 Seasons  International TV Shows, TV Dramas, TV Mysteries   \n",
       "\n",
       "                                         description      month  Day  year  \n",
       "0  As her father nears the end of his life, filmm...  September  25,  2021  \n",
       "1  After crossing paths at a party, a Cape Town t...  September  24,  2021  "
      ]
     },
     "execution_count": 103,
     "metadata": {},
     "output_type": "execute_result"
    }
   ],
   "source": [
    "df.head(2)"
   ]
  },
  {
   "cell_type": "code",
   "execution_count": 106,
   "id": "1242c5c4-0fee-4598-8e06-f6a2e45859dd",
   "metadata": {},
   "outputs": [],
   "source": [
    "# for categorical and categorical "
   ]
  },
  {
   "cell_type": "code",
   "execution_count": 105,
   "id": "709a903e-281d-4a03-a86d-d94d85fd53a3",
   "metadata": {},
   "outputs": [
    {
     "data": {
      "text/html": [
       "<div>\n",
       "<style scoped>\n",
       "    .dataframe tbody tr th:only-of-type {\n",
       "        vertical-align: middle;\n",
       "    }\n",
       "\n",
       "    .dataframe tbody tr th {\n",
       "        vertical-align: top;\n",
       "    }\n",
       "\n",
       "    .dataframe thead th {\n",
       "        text-align: right;\n",
       "    }\n",
       "</style>\n",
       "<table border=\"1\" class=\"dataframe\">\n",
       "  <thead>\n",
       "    <tr style=\"text-align: right;\">\n",
       "      <th>rating</th>\n",
       "      <th>66 min</th>\n",
       "      <th>74 min</th>\n",
       "      <th>84 min</th>\n",
       "      <th>G</th>\n",
       "      <th>NC-17</th>\n",
       "      <th>NR</th>\n",
       "      <th>PG</th>\n",
       "      <th>PG-13</th>\n",
       "      <th>R</th>\n",
       "      <th>TV-14</th>\n",
       "      <th>TV-G</th>\n",
       "      <th>TV-MA</th>\n",
       "      <th>TV-PG</th>\n",
       "      <th>TV-Y</th>\n",
       "      <th>TV-Y7</th>\n",
       "      <th>TV-Y7-FV</th>\n",
       "      <th>UR</th>\n",
       "    </tr>\n",
       "    <tr>\n",
       "      <th>type</th>\n",
       "      <th></th>\n",
       "      <th></th>\n",
       "      <th></th>\n",
       "      <th></th>\n",
       "      <th></th>\n",
       "      <th></th>\n",
       "      <th></th>\n",
       "      <th></th>\n",
       "      <th></th>\n",
       "      <th></th>\n",
       "      <th></th>\n",
       "      <th></th>\n",
       "      <th></th>\n",
       "      <th></th>\n",
       "      <th></th>\n",
       "      <th></th>\n",
       "      <th></th>\n",
       "    </tr>\n",
       "  </thead>\n",
       "  <tbody>\n",
       "    <tr>\n",
       "      <th>Movie</th>\n",
       "      <td>100.0</td>\n",
       "      <td>100.0</td>\n",
       "      <td>100.0</td>\n",
       "      <td>100.0</td>\n",
       "      <td>100.0</td>\n",
       "      <td>93.75</td>\n",
       "      <td>100.0</td>\n",
       "      <td>100.0</td>\n",
       "      <td>99.749687</td>\n",
       "      <td>66.064815</td>\n",
       "      <td>57.272727</td>\n",
       "      <td>64.296851</td>\n",
       "      <td>62.572422</td>\n",
       "      <td>42.67101</td>\n",
       "      <td>41.616766</td>\n",
       "      <td>83.333333</td>\n",
       "      <td>100.0</td>\n",
       "    </tr>\n",
       "    <tr>\n",
       "      <th>TV Show</th>\n",
       "      <td>0.0</td>\n",
       "      <td>0.0</td>\n",
       "      <td>0.0</td>\n",
       "      <td>0.0</td>\n",
       "      <td>0.0</td>\n",
       "      <td>6.25</td>\n",
       "      <td>0.0</td>\n",
       "      <td>0.0</td>\n",
       "      <td>0.250313</td>\n",
       "      <td>33.935185</td>\n",
       "      <td>42.727273</td>\n",
       "      <td>35.703149</td>\n",
       "      <td>37.427578</td>\n",
       "      <td>57.32899</td>\n",
       "      <td>58.383234</td>\n",
       "      <td>16.666667</td>\n",
       "      <td>0.0</td>\n",
       "    </tr>\n",
       "  </tbody>\n",
       "</table>\n",
       "</div>"
      ],
      "text/plain": [
       "rating   66 min  74 min  84 min      G  NC-17     NR     PG  PG-13          R  \\\n",
       "type                                                                            \n",
       "Movie     100.0   100.0   100.0  100.0  100.0  93.75  100.0  100.0  99.749687   \n",
       "TV Show     0.0     0.0     0.0    0.0    0.0   6.25    0.0    0.0   0.250313   \n",
       "\n",
       "rating       TV-14       TV-G      TV-MA      TV-PG      TV-Y      TV-Y7  \\\n",
       "type                                                                       \n",
       "Movie    66.064815  57.272727  64.296851  62.572422  42.67101  41.616766   \n",
       "TV Show  33.935185  42.727273  35.703149  37.427578  57.32899  58.383234   \n",
       "\n",
       "rating    TV-Y7-FV     UR  \n",
       "type                       \n",
       "Movie    83.333333  100.0  \n",
       "TV Show  16.666667    0.0  "
      ]
     },
     "execution_count": 105,
     "metadata": {},
     "output_type": "execute_result"
    }
   ],
   "source": [
    "pd.crosstab(df[\"type\"],df[\"rating\"],normalize=\"columns\")*100"
   ]
  },
  {
   "cell_type": "code",
   "execution_count": 109,
   "id": "92f53599-d44e-4220-af2c-db4b115d87fd",
   "metadata": {},
   "outputs": [
    {
     "data": {
      "text/plain": [
       "<Axes: xlabel='rating', ylabel='type'>"
      ]
     },
     "execution_count": 109,
     "metadata": {},
     "output_type": "execute_result"
    },
    {
     "data": {
      "image/png": "[encoded data removed]",
      "text/plain": [
       "<Figure size 640x480 with 2 Axes>"
      ]
     },
     "metadata": {},
     "output_type": "display_data"
    }
   ],
   "source": [
    "sns.heatmap(pd.crosstab(df[\"type\"],df[\"rating\"],normalize=\"columns\")*100,cmap=\"coolwarm\")"
   ]
  },
  {
   "cell_type": "code",
   "execution_count": 110,
   "id": "bd8b450c-fd1f-4ea8-9ace-90aa3580b87a",
   "metadata": {},
   "outputs": [
    {
     "data": {
      "text/html": [
       "<div>\n",
       "<style scoped>\n",
       "    .dataframe tbody tr th:only-of-type {\n",
       "        vertical-align: middle;\n",
       "    }\n",
       "\n",
       "    .dataframe tbody tr th {\n",
       "        vertical-align: top;\n",
       "    }\n",
       "\n",
       "    .dataframe thead th {\n",
       "        text-align: right;\n",
       "    }\n",
       "</style>\n",
       "<table border=\"1\" class=\"dataframe\">\n",
       "  <thead>\n",
       "    <tr style=\"text-align: right;\">\n",
       "      <th>listed_in</th>\n",
       "      <th>Action &amp; Adventure</th>\n",
       "      <th>Action &amp; Adventure, Anime Features</th>\n",
       "      <th>Action &amp; Adventure, Anime Features, Children &amp; Family Movies</th>\n",
       "      <th>Action &amp; Adventure, Anime Features, Classic Movies</th>\n",
       "      <th>Action &amp; Adventure, Anime Features, Horror Movies</th>\n",
       "      <th>Action &amp; Adventure, Anime Features, International Movies</th>\n",
       "      <th>Action &amp; Adventure, Anime Features, Sci-Fi &amp; Fantasy</th>\n",
       "      <th>Action &amp; Adventure, Children &amp; Family Movies</th>\n",
       "      <th>Action &amp; Adventure, Children &amp; Family Movies, Classic Movies</th>\n",
       "      <th>Action &amp; Adventure, Children &amp; Family Movies, Comedies</th>\n",
       "      <th>...</th>\n",
       "      <th>TV Dramas, TV Sci-Fi &amp; Fantasy, Teen TV Shows</th>\n",
       "      <th>TV Dramas, TV Thrillers</th>\n",
       "      <th>TV Dramas, Teen TV Shows</th>\n",
       "      <th>TV Horror, TV Mysteries, TV Sci-Fi &amp; Fantasy</th>\n",
       "      <th>TV Horror, TV Mysteries, TV Thrillers</th>\n",
       "      <th>TV Horror, TV Mysteries, Teen TV Shows</th>\n",
       "      <th>TV Horror, Teen TV Shows</th>\n",
       "      <th>TV Sci-Fi &amp; Fantasy, TV Thrillers</th>\n",
       "      <th>TV Shows</th>\n",
       "      <th>Thrillers</th>\n",
       "    </tr>\n",
       "    <tr>\n",
       "      <th>type</th>\n",
       "      <th></th>\n",
       "      <th></th>\n",
       "      <th></th>\n",
       "      <th></th>\n",
       "      <th></th>\n",
       "      <th></th>\n",
       "      <th></th>\n",
       "      <th></th>\n",
       "      <th></th>\n",
       "      <th></th>\n",
       "      <th></th>\n",
       "      <th></th>\n",
       "      <th></th>\n",
       "      <th></th>\n",
       "      <th></th>\n",
       "      <th></th>\n",
       "      <th></th>\n",
       "      <th></th>\n",
       "      <th></th>\n",
       "      <th></th>\n",
       "      <th></th>\n",
       "    </tr>\n",
       "  </thead>\n",
       "  <tbody>\n",
       "    <tr>\n",
       "      <th>Movie</th>\n",
       "      <td>100.0</td>\n",
       "      <td>100.0</td>\n",
       "      <td>100.0</td>\n",
       "      <td>100.0</td>\n",
       "      <td>100.0</td>\n",
       "      <td>100.0</td>\n",
       "      <td>100.0</td>\n",
       "      <td>100.0</td>\n",
       "      <td>100.0</td>\n",
       "      <td>100.0</td>\n",
       "      <td>...</td>\n",
       "      <td>0.0</td>\n",
       "      <td>0.0</td>\n",
       "      <td>0.0</td>\n",
       "      <td>0.0</td>\n",
       "      <td>0.0</td>\n",
       "      <td>0.0</td>\n",
       "      <td>0.0</td>\n",
       "      <td>0.0</td>\n",
       "      <td>0.0</td>\n",
       "      <td>100.0</td>\n",
       "    </tr>\n",
       "    <tr>\n",
       "      <th>TV Show</th>\n",
       "      <td>0.0</td>\n",
       "      <td>0.0</td>\n",
       "      <td>0.0</td>\n",
       "      <td>0.0</td>\n",
       "      <td>0.0</td>\n",
       "      <td>0.0</td>\n",
       "      <td>0.0</td>\n",
       "      <td>0.0</td>\n",
       "      <td>0.0</td>\n",
       "      <td>0.0</td>\n",
       "      <td>...</td>\n",
       "      <td>100.0</td>\n",
       "      <td>100.0</td>\n",
       "      <td>100.0</td>\n",
       "      <td>100.0</td>\n",
       "      <td>100.0</td>\n",
       "      <td>100.0</td>\n",
       "      <td>100.0</td>\n",
       "      <td>100.0</td>\n",
       "      <td>100.0</td>\n",
       "      <td>0.0</td>\n",
       "    </tr>\n",
       "  </tbody>\n",
       "</table>\n",
       "<p>2 rows × 514 columns</p>\n",
       "</div>"
      ],
      "text/plain": [
       "listed_in  Action & Adventure  Action & Adventure, Anime Features  \\\n",
       "type                                                                \n",
       "Movie                   100.0                               100.0   \n",
       "TV Show                   0.0                                 0.0   \n",
       "\n",
       "listed_in  Action & Adventure, Anime Features, Children & Family Movies  \\\n",
       "type                                                                      \n",
       "Movie                                                  100.0              \n",
       "TV Show                                                  0.0              \n",
       "\n",
       "listed_in  Action & Adventure, Anime Features, Classic Movies  \\\n",
       "type                                                            \n",
       "Movie                                                  100.0    \n",
       "TV Show                                                  0.0    \n",
       "\n",
       "listed_in  Action & Adventure, Anime Features, Horror Movies  \\\n",
       "type                                                           \n",
       "Movie                                                  100.0   \n",
       "TV Show                                                  0.0   \n",
       "\n",
       "listed_in  Action & Adventure, Anime Features, International Movies  \\\n",
       "type                                                                  \n",
       "Movie                                                  100.0          \n",
       "TV Show                                                  0.0          \n",
       "\n",
       "listed_in  Action & Adventure, Anime Features, Sci-Fi & Fantasy  \\\n",
       "type                                                              \n",
       "Movie                                                  100.0      \n",
       "TV Show                                                  0.0      \n",
       "\n",
       "listed_in  Action & Adventure, Children & Family Movies  \\\n",
       "type                                                      \n",
       "Movie                                             100.0   \n",
       "TV Show                                             0.0   \n",
       "\n",
       "listed_in  Action & Adventure, Children & Family Movies, Classic Movies  \\\n",
       "type                                                                      \n",
       "Movie                                                  100.0              \n",
       "TV Show                                                  0.0              \n",
       "\n",
       "listed_in  Action & Adventure, Children & Family Movies, Comedies  ...  \\\n",
       "type                                                               ...   \n",
       "Movie                                                  100.0       ...   \n",
       "TV Show                                                  0.0       ...   \n",
       "\n",
       "listed_in  TV Dramas, TV Sci-Fi & Fantasy, Teen TV Shows  \\\n",
       "type                                                       \n",
       "Movie                                                0.0   \n",
       "TV Show                                            100.0   \n",
       "\n",
       "listed_in  TV Dramas, TV Thrillers  TV Dramas, Teen TV Shows  \\\n",
       "type                                                           \n",
       "Movie                          0.0                       0.0   \n",
       "TV Show                      100.0                     100.0   \n",
       "\n",
       "listed_in  TV Horror, TV Mysteries, TV Sci-Fi & Fantasy  \\\n",
       "type                                                      \n",
       "Movie                                               0.0   \n",
       "TV Show                                           100.0   \n",
       "\n",
       "listed_in  TV Horror, TV Mysteries, TV Thrillers  \\\n",
       "type                                               \n",
       "Movie                                        0.0   \n",
       "TV Show                                    100.0   \n",
       "\n",
       "listed_in  TV Horror, TV Mysteries, Teen TV Shows  TV Horror, Teen TV Shows  \\\n",
       "type                                                                          \n",
       "Movie                                         0.0                       0.0   \n",
       "TV Show                                     100.0                     100.0   \n",
       "\n",
       "listed_in  TV Sci-Fi & Fantasy, TV Thrillers  TV Shows  Thrillers  \n",
       "type                                                               \n",
       "Movie                                    0.0       0.0      100.0  \n",
       "TV Show                                100.0     100.0        0.0  \n",
       "\n",
       "[2 rows x 514 columns]"
      ]
     },
     "execution_count": 110,
     "metadata": {},
     "output_type": "execute_result"
    }
   ],
   "source": [
    "pd.crosstab(df[\"type\"],df[\"listed_in\"],normalize=\"columns\")*100"
   ]
  },
  {
   "cell_type": "code",
   "execution_count": 111,
   "id": "49cee994-884f-4e96-867d-48eded953140",
   "metadata": {},
   "outputs": [
    {
     "data": {
      "text/plain": [
       "<Axes: xlabel='listed_in', ylabel='type'>"
      ]
     },
     "execution_count": 111,
     "metadata": {},
     "output_type": "execute_result"
    },
    {
     "data": {
      "image/png": "[encoded data removed]",
      "text/plain": [
       "<Figure size 640x480 with 2 Axes>"
      ]
     },
     "metadata": {},
     "output_type": "display_data"
    }
   ],
   "source": [
    "sns.heatmap(pd.crosstab(df[\"type\"],df[\"listed_in\"],normalize=\"columns\")*100)"
   ]
  },
  {
   "cell_type": "code",
   "execution_count": 113,
   "id": "95033d02-a217-4824-833a-cdea72e7ef99",
   "metadata": {},
   "outputs": [
    {
     "data": {
      "text/html": [
       "<div>\n",
       "<style scoped>\n",
       "    .dataframe tbody tr th:only-of-type {\n",
       "        vertical-align: middle;\n",
       "    }\n",
       "\n",
       "    .dataframe tbody tr th {\n",
       "        vertical-align: top;\n",
       "    }\n",
       "\n",
       "    .dataframe thead th {\n",
       "        text-align: right;\n",
       "    }\n",
       "</style>\n",
       "<table border=\"1\" class=\"dataframe\">\n",
       "  <thead>\n",
       "    <tr style=\"text-align: right;\">\n",
       "      <th>release_year</th>\n",
       "      <th>1925</th>\n",
       "      <th>1942</th>\n",
       "      <th>1943</th>\n",
       "      <th>1944</th>\n",
       "      <th>1945</th>\n",
       "      <th>1946</th>\n",
       "      <th>1947</th>\n",
       "      <th>1954</th>\n",
       "      <th>1955</th>\n",
       "      <th>1956</th>\n",
       "      <th>...</th>\n",
       "      <th>2012</th>\n",
       "      <th>2013</th>\n",
       "      <th>2014</th>\n",
       "      <th>2015</th>\n",
       "      <th>2016</th>\n",
       "      <th>2017</th>\n",
       "      <th>2018</th>\n",
       "      <th>2019</th>\n",
       "      <th>2020</th>\n",
       "      <th>2021</th>\n",
       "    </tr>\n",
       "    <tr>\n",
       "      <th>type</th>\n",
       "      <th></th>\n",
       "      <th></th>\n",
       "      <th></th>\n",
       "      <th></th>\n",
       "      <th></th>\n",
       "      <th></th>\n",
       "      <th></th>\n",
       "      <th></th>\n",
       "      <th></th>\n",
       "      <th></th>\n",
       "      <th></th>\n",
       "      <th></th>\n",
       "      <th></th>\n",
       "      <th></th>\n",
       "      <th></th>\n",
       "      <th></th>\n",
       "      <th></th>\n",
       "      <th></th>\n",
       "      <th></th>\n",
       "      <th></th>\n",
       "      <th></th>\n",
       "    </tr>\n",
       "  </thead>\n",
       "  <tbody>\n",
       "    <tr>\n",
       "      <th>Movie</th>\n",
       "      <td>0.0</td>\n",
       "      <td>100.0</td>\n",
       "      <td>100.0</td>\n",
       "      <td>100.0</td>\n",
       "      <td>75.0</td>\n",
       "      <td>50.0</td>\n",
       "      <td>100.0</td>\n",
       "      <td>100.0</td>\n",
       "      <td>100.0</td>\n",
       "      <td>100.0</td>\n",
       "      <td>...</td>\n",
       "      <td>72.995781</td>\n",
       "      <td>78.125</td>\n",
       "      <td>75.0</td>\n",
       "      <td>71.071429</td>\n",
       "      <td>72.949002</td>\n",
       "      <td>74.321705</td>\n",
       "      <td>66.870096</td>\n",
       "      <td>61.456311</td>\n",
       "      <td>54.249738</td>\n",
       "      <td>46.790541</td>\n",
       "    </tr>\n",
       "    <tr>\n",
       "      <th>TV Show</th>\n",
       "      <td>100.0</td>\n",
       "      <td>0.0</td>\n",
       "      <td>0.0</td>\n",
       "      <td>0.0</td>\n",
       "      <td>25.0</td>\n",
       "      <td>50.0</td>\n",
       "      <td>0.0</td>\n",
       "      <td>0.0</td>\n",
       "      <td>0.0</td>\n",
       "      <td>0.0</td>\n",
       "      <td>...</td>\n",
       "      <td>27.004219</td>\n",
       "      <td>21.875</td>\n",
       "      <td>25.0</td>\n",
       "      <td>28.928571</td>\n",
       "      <td>27.050998</td>\n",
       "      <td>25.678295</td>\n",
       "      <td>33.129904</td>\n",
       "      <td>38.543689</td>\n",
       "      <td>45.750262</td>\n",
       "      <td>53.209459</td>\n",
       "    </tr>\n",
       "  </tbody>\n",
       "</table>\n",
       "<p>2 rows × 74 columns</p>\n",
       "</div>"
      ],
      "text/plain": [
       "release_year   1925   1942   1943   1944  1945  1946   1947   1954   1955  \\\n",
       "type                                                                        \n",
       "Movie           0.0  100.0  100.0  100.0  75.0  50.0  100.0  100.0  100.0   \n",
       "TV Show       100.0    0.0    0.0    0.0  25.0  50.0    0.0    0.0    0.0   \n",
       "\n",
       "release_year   1956  ...       2012    2013  2014       2015       2016  \\\n",
       "type                 ...                                                  \n",
       "Movie         100.0  ...  72.995781  78.125  75.0  71.071429  72.949002   \n",
       "TV Show         0.0  ...  27.004219  21.875  25.0  28.928571  27.050998   \n",
       "\n",
       "release_year       2017       2018       2019       2020       2021  \n",
       "type                                                                 \n",
       "Movie         74.321705  66.870096  61.456311  54.249738  46.790541  \n",
       "TV Show       25.678295  33.129904  38.543689  45.750262  53.209459  \n",
       "\n",
       "[2 rows x 74 columns]"
      ]
     },
     "execution_count": 113,
     "metadata": {},
     "output_type": "execute_result"
    }
   ],
   "source": [
    "pd.crosstab(df[\"type\"],df[\"release_year\"],normalize=\"columns\")*100"
   ]
  },
  {
   "cell_type": "code",
   "execution_count": 117,
   "id": "5b722c3e-a1fa-4d49-b37e-e8eb35ffd701",
   "metadata": {},
   "outputs": [
    {
     "data": {
      "text/plain": [
       "<Axes: xlabel='release_year', ylabel='type'>"
      ]
     },
     "execution_count": 117,
     "metadata": {},
     "output_type": "execute_result"
    },
    {
     "data": {
      "image/png": "[encoded data removed]",
      "text/plain": [
       "<Figure size 640x480 with 2 Axes>"
      ]
     },
     "metadata": {},
     "output_type": "display_data"
    }
   ],
   "source": [
    "sns.heatmap(pd.crosstab(df[\"type\"],df[\"release_year\"],normalize=\"columns\",)*100,cmap=\"viridis\")"
   ]
  },
  {
   "cell_type": "code",
   "execution_count": 118,
   "id": "7b3b5b83-9056-4d6b-9c93-ce6fdf951809",
   "metadata": {},
   "outputs": [
    {
     "data": {
      "text/plain": [
       "show_id            0\n",
       "type               0\n",
       "title              0\n",
       "director        2634\n",
       "cast             825\n",
       "release_year       0\n",
       "rating             4\n",
       "duration           3\n",
       "listed_in          0\n",
       "description        0\n",
       "month             10\n",
       "Day               10\n",
       "year              10\n",
       "dtype: int64"
      ]
     },
     "execution_count": 118,
     "metadata": {},
     "output_type": "execute_result"
    }
   ],
   "source": [
    "#handling missing values.\n",
    "df.isnull().sum()"
   ]
  },
  {
   "cell_type": "code",
   "execution_count": 120,
   "id": "fc52a3eb-272a-4ad4-941b-3388a5ac4787",
   "metadata": {},
   "outputs": [
    {
     "data": {
      "text/plain": [
       "['director', 'cast', 'rating', 'duration', 'month', 'Day', 'year']"
      ]
     },
     "execution_count": 120,
     "metadata": {},
     "output_type": "execute_result"
    }
   ],
   "source": [
    "[features for features in df.columns if df[features].isnull().sum()>0]"
   ]
  },
  {
   "cell_type": "code",
   "execution_count": 121,
   "id": "6e594816-3801-4096-835a-9adb27e3ef50",
   "metadata": {},
   "outputs": [],
   "source": [
    "df[\"director\"]=df[\"director\"].fillna(df[\"director\"].mode()[0])"
   ]
  },
  {
   "cell_type": "code",
   "execution_count": 122,
   "id": "b7839522-c17d-452b-8f51-a77cccb62249",
   "metadata": {},
   "outputs": [],
   "source": [
    "df['cast']=df['cast'].fillna(df['cast'].mode()[0])"
   ]
  },
  {
   "cell_type": "code",
   "execution_count": 123,
   "id": "aa698f70-1e87-4f5c-853e-3f5f582b8720",
   "metadata": {},
   "outputs": [],
   "source": [
    "df['rating']=df['rating'].fillna(df['rating'].mode()[0])"
   ]
  },
  {
   "cell_type": "code",
   "execution_count": 124,
   "id": "c251672e-f9a9-49b0-a36d-fbc251833ca2",
   "metadata": {},
   "outputs": [],
   "source": [
    "df['duration']=df['duration'].fillna(df['duration'].mode()[0])"
   ]
  },
  {
   "cell_type": "code",
   "execution_count": 125,
   "id": "df9c2d1e-741a-4c39-b6e5-15e6ac310bd8",
   "metadata": {},
   "outputs": [],
   "source": [
    "df['month']=df['month'].fillna(df['month'].mode()[0])"
   ]
  },
  {
   "cell_type": "code",
   "execution_count": 126,
   "id": "8a3b16b7-25f4-4fc3-be80-28c12434f097",
   "metadata": {},
   "outputs": [],
   "source": [
    "df['Day']=df['Day'].fillna(df['Day'].mode()[0])"
   ]
  },
  {
   "cell_type": "code",
   "execution_count": 127,
   "id": "1231a611-6eb8-400e-89b8-0ac49d0eca0b",
   "metadata": {},
   "outputs": [],
   "source": [
    "df['year']=df['year'].fillna(df['year'].mode()[0])"
   ]
  },
  {
   "cell_type": "code",
   "execution_count": 128,
   "id": "e3ee655e-7cc4-48c9-bc9f-277014e8277b",
   "metadata": {},
   "outputs": [
    {
     "data": {
      "text/plain": [
       "show_id         0\n",
       "type            0\n",
       "title           0\n",
       "director        0\n",
       "cast            0\n",
       "release_year    0\n",
       "rating          0\n",
       "duration        0\n",
       "listed_in       0\n",
       "description     0\n",
       "month           0\n",
       "Day             0\n",
       "year            0\n",
       "dtype: int64"
      ]
     },
     "execution_count": 128,
     "metadata": {},
     "output_type": "execute_result"
    }
   ],
   "source": [
    "df.isnull().sum()"
   ]
  },
  {
   "cell_type": "code",
   "execution_count": 219,
   "id": "6c7a19f5-986d-4ab0-bae2-f6a5d8278e67",
   "metadata": {},
   "outputs": [
    {
     "data": {
      "text/html": [
       "<div>\n",
       "<style scoped>\n",
       "    .dataframe tbody tr th:only-of-type {\n",
       "        vertical-align: middle;\n",
       "    }\n",
       "\n",
       "    .dataframe tbody tr th {\n",
       "        vertical-align: top;\n",
       "    }\n",
       "\n",
       "    .dataframe thead th {\n",
       "        text-align: right;\n",
       "    }\n",
       "</style>\n",
       "<table border=\"1\" class=\"dataframe\">\n",
       "  <thead>\n",
       "    <tr style=\"text-align: right;\">\n",
       "      <th></th>\n",
       "      <th>show_id</th>\n",
       "      <th>type</th>\n",
       "      <th>title</th>\n",
       "      <th>director</th>\n",
       "      <th>cast</th>\n",
       "      <th>release_year</th>\n",
       "      <th>rating</th>\n",
       "      <th>duration</th>\n",
       "      <th>listed_in</th>\n",
       "      <th>description</th>\n",
       "      <th>month</th>\n",
       "      <th>Day</th>\n",
       "      <th>year</th>\n",
       "    </tr>\n",
       "  </thead>\n",
       "  <tbody>\n",
       "    <tr>\n",
       "      <th>0</th>\n",
       "      <td>1</td>\n",
       "      <td>0</td>\n",
       "      <td>1973</td>\n",
       "      <td>2295</td>\n",
       "      <td>1699</td>\n",
       "      <td>2020</td>\n",
       "      <td>7</td>\n",
       "      <td>210</td>\n",
       "      <td>274</td>\n",
       "      <td>2577</td>\n",
       "      <td>12</td>\n",
       "      <td>25,</td>\n",
       "      <td>2021</td>\n",
       "    </tr>\n",
       "    <tr>\n",
       "      <th>1</th>\n",
       "      <td>2</td>\n",
       "      <td>1</td>\n",
       "      <td>1089</td>\n",
       "      <td>3392</td>\n",
       "      <td>409</td>\n",
       "      <td>2021</td>\n",
       "      <td>11</td>\n",
       "      <td>110</td>\n",
       "      <td>414</td>\n",
       "      <td>1762</td>\n",
       "      <td>12</td>\n",
       "      <td>24,</td>\n",
       "      <td>2021</td>\n",
       "    </tr>\n",
       "  </tbody>\n",
       "</table>\n",
       "</div>"
      ],
      "text/plain": [
       "   show_id  type  title  director  cast  release_year  rating  duration  \\\n",
       "0        1     0   1973      2295  1699          2020       7       210   \n",
       "1        2     1   1089      3392   409          2021      11       110   \n",
       "\n",
       "   listed_in  description  month  Day  year  \n",
       "0        274         2577     12  25,  2021  \n",
       "1        414         1762     12  24,  2021  "
      ]
     },
     "execution_count": 219,
     "metadata": {},
     "output_type": "execute_result"
    }
   ],
   "source": [
    "df.head(2)"
   ]
  },
  {
   "cell_type": "code",
   "execution_count": 141,
   "id": "87701aa8-d9c6-446e-8d65-b2a1a502bc92",
   "metadata": {},
   "outputs": [],
   "source": [
    "from sklearn.preprocessing import LabelEncoder"
   ]
  },
  {
   "cell_type": "code",
   "execution_count": 142,
   "id": "4f9a1997-bc05-4ac1-a769-4dc8da442831",
   "metadata": {},
   "outputs": [],
   "source": [
    "lr=LabelEncoder()"
   ]
  },
  {
   "cell_type": "code",
   "execution_count": 143,
   "id": "49704855-89d9-4bfa-8745-f3cceb43c4bb",
   "metadata": {},
   "outputs": [],
   "source": [
    "df[\"type\"]=lr.fit_transform(df[\"type\"])"
   ]
  },
  {
   "cell_type": "code",
   "execution_count": 151,
   "id": "d4e6801c-4684-4b77-9223-2ea486a70286",
   "metadata": {},
   "outputs": [],
   "source": [
    "df[\"title\"]=lr.fit_transform(df[\"title\"])"
   ]
  },
  {
   "cell_type": "code",
   "execution_count": 159,
   "id": "89f12742-6851-4b56-8d4f-72ac675d3a33",
   "metadata": {},
   "outputs": [],
   "source": [
    "df[\"director\"]=lr.fit_transform(df[\"director\"])\t"
   ]
  },
  {
   "cell_type": "code",
   "execution_count": 167,
   "id": "5a8f931d-0733-4fcb-9098-0a1c68210322",
   "metadata": {},
   "outputs": [],
   "source": [
    "df[\"cast\"]=lr.fit_transform(df[\"cast\"])"
   ]
  },
  {
   "cell_type": "code",
   "execution_count": 176,
   "id": "a81b70b5-4d6a-40f8-900f-20d371449489",
   "metadata": {},
   "outputs": [],
   "source": [
    "df[\"rating\"]=lr.fit_transform(df[\"rating\"])"
   ]
  },
  {
   "cell_type": "code",
   "execution_count": 184,
   "id": "3b960b36-a700-49d7-b6d0-3a20bd239cf1",
   "metadata": {},
   "outputs": [],
   "source": [
    "df[\"duration\"]=lr.fit_transform(df[\"duration\"])"
   ]
  },
  {
   "cell_type": "code",
   "execution_count": 192,
   "id": "ea18fe93-7e84-4e31-9ac4-d9bc6a69a905",
   "metadata": {},
   "outputs": [],
   "source": [
    "df[\"listed_in\"]=lr.fit_transform(df[\"listed_in\"])"
   ]
  },
  {
   "cell_type": "code",
   "execution_count": 200,
   "id": "b0000fc7-3571-4d0c-b283-bed49e82a5ff",
   "metadata": {},
   "outputs": [],
   "source": [
    "df[\"description\"]=lr.fit_transform(df[\"description\"])"
   ]
  },
  {
   "cell_type": "code",
   "execution_count": 218,
   "id": "6d9a7dde-0cda-4266-a803-962413be11ae",
   "metadata": {},
   "outputs": [],
   "source": [
    "df['month']=lr.fit_transform(df[\"month\"])"
   ]
  },
  {
   "cell_type": "code",
   "execution_count": 220,
   "id": "459ab889-d005-4149-b4dd-e85513b0c5f0",
   "metadata": {},
   "outputs": [],
   "source": [
    "df[\"year\"]=lr.fit_transform(df[\"year\"])"
   ]
  },
  {
   "cell_type": "code",
   "execution_count": 229,
   "id": "9ff585dd-b5c8-4ccb-a5a0-3b68264a0cd7",
   "metadata": {},
   "outputs": [],
   "source": [
    "df[\"Day\"]=lr.fit_transform(df[\"Day\"])"
   ]
  },
  {
   "cell_type": "code",
   "execution_count": 230,
   "id": "b682dd98-995e-4e6c-954a-cf33cd848bb8",
   "metadata": {},
   "outputs": [],
   "source": [
    "from sklearn.model_selection import train_test_split"
   ]
  },
  {
   "cell_type": "code",
   "execution_count": 231,
   "id": "68417d12-27f4-4f4b-bcef-1e09ba09f064",
   "metadata": {},
   "outputs": [],
   "source": [
    "X=df.drop('release_year',axis=1)"
   ]
  },
  {
   "cell_type": "code",
   "execution_count": 232,
   "id": "e4afde44-21ff-48b0-be95-055251d244e4",
   "metadata": {},
   "outputs": [],
   "source": [
    "y=df[\"release_year\"]"
   ]
  },
  {
   "cell_type": "code",
   "execution_count": 233,
   "id": "ffac5c75-b94d-4eb3-ada7-ff9418218a2d",
   "metadata": {},
   "outputs": [],
   "source": [
    "X_train,X_test,y_train,y_test=train_test_split(X,y,random_state=101,test_size=0.3)"
   ]
  },
  {
   "cell_type": "code",
   "execution_count": 234,
   "id": "91bcd85a-c4de-4b96-8c9c-e067b9c81972",
   "metadata": {},
   "outputs": [],
   "source": [
    "from sklearn.tree import DecisionTreeClassifier"
   ]
  },
  {
   "cell_type": "code",
   "execution_count": 235,
   "id": "3b0bb91f-e65b-4c6f-a008-071dbe8bd99b",
   "metadata": {},
   "outputs": [],
   "source": [
    "dtc= DecisionTreeClassifier()"
   ]
  },
  {
   "cell_type": "code",
   "execution_count": 236,
   "id": "dbdf0eb9-fb43-4917-9b5c-850f95999b85",
   "metadata": {},
   "outputs": [
    {
     "data": {
      "text/html": [
       "<style>#sk-container-id-1 {color: black;}#sk-container-id-1 pre{padding: 0;}#sk-container-id-1 div.sk-toggleable {background-color: white;}#sk-container-id-1 label.sk-toggleable__label {cursor: pointer;display: block;width: 100%;margin-bottom: 0;padding: 0.3em;box-sizing: border-box;text-align: center;}#sk-container-id-1 label.sk-toggleable__label-arrow:before {content: \"▸\";float: left;margin-right: 0.25em;color: #696969;}#sk-container-id-1 label.sk-toggleable__label-arrow:hover:before {color: black;}#sk-container-id-1 div.sk-estimator:hover label.sk-toggleable__label-arrow:before {color: black;}#sk-container-id-1 div.sk-toggleable__content {max-height: 0;max-width: 0;overflow: hidden;text-align: left;background-color: #f0f8ff;}#sk-container-id-1 div.sk-toggleable__content pre {margin: 0.2em;color: black;border-radius: 0.25em;background-color: #f0f8ff;}#sk-container-id-1 input.sk-toggleable__control:checked~div.sk-toggleable__content {max-height: 200px;max-width: 100%;overflow: auto;}#sk-container-id-1 input.sk-toggleable__control:checked~label.sk-toggleable__label-arrow:before {content: \"▾\";}#sk-container-id-1 div.sk-estimator input.sk-toggleable__control:checked~label.sk-toggleable__label {background-color: #d4ebff;}#sk-container-id-1 div.sk-label input.sk-toggleable__control:checked~label.sk-toggleable__label {background-color: #d4ebff;}#sk-container-id-1 input.sk-hidden--visually {border: 0;clip: rect(1px 1px 1px 1px);clip: rect(1px, 1px, 1px, 1px);height: 1px;margin: -1px;overflow: hidden;padding: 0;position: absolute;width: 1px;}#sk-container-id-1 div.sk-estimator {font-family: monospace;background-color: #f0f8ff;border: 1px dotted black;border-radius: 0.25em;box-sizing: border-box;margin-bottom: 0.5em;}#sk-container-id-1 div.sk-estimator:hover {background-color: #d4ebff;}#sk-container-id-1 div.sk-parallel-item::after {content: \"\";width: 100%;border-bottom: 1px solid gray;flex-grow: 1;}#sk-container-id-1 div.sk-label:hover label.sk-toggleable__label {background-color: #d4ebff;}#sk-container-id-1 div.sk-serial::before {content: \"\";position: absolute;border-left: 1px solid gray;box-sizing: border-box;top: 0;bottom: 0;left: 50%;z-index: 0;}#sk-container-id-1 div.sk-serial {display: flex;flex-direction: column;align-items: center;background-color: white;padding-right: 0.2em;padding-left: 0.2em;position: relative;}#sk-container-id-1 div.sk-item {position: relative;z-index: 1;}#sk-container-id-1 div.sk-parallel {display: flex;align-items: stretch;justify-content: center;background-color: white;position: relative;}#sk-container-id-1 div.sk-item::before, #sk-container-id-1 div.sk-parallel-item::before {content: \"\";position: absolute;border-left: 1px solid gray;box-sizing: border-box;top: 0;bottom: 0;left: 50%;z-index: -1;}#sk-container-id-1 div.sk-parallel-item {display: flex;flex-direction: column;z-index: 1;position: relative;background-color: white;}#sk-container-id-1 div.sk-parallel-item:first-child::after {align-self: flex-end;width: 50%;}#sk-container-id-1 div.sk-parallel-item:last-child::after {align-self: flex-start;width: 50%;}#sk-container-id-1 div.sk-parallel-item:only-child::after {width: 0;}#sk-container-id-1 div.sk-dashed-wrapped {border: 1px dashed gray;margin: 0 0.4em 0.5em 0.4em;box-sizing: border-box;padding-bottom: 0.4em;background-color: white;}#sk-container-id-1 div.sk-label label {font-family: monospace;font-weight: bold;display: inline-block;line-height: 1.2em;}#sk-container-id-1 div.sk-label-container {text-align: center;}#sk-container-id-1 div.sk-container {/* jupyter's `normalize.less` sets `[hidden] { display: none; }` but bootstrap.min.css set `[hidden] { display: none !important; }` so we also need the `!important` here to be able to override the default hidden behavior on the sphinx rendered scikit-learn.org. See: https://github.com/scikit-learn/scikit-learn/issues/21755 */display: inline-block !important;position: relative;}#sk-container-id-1 div.sk-text-repr-fallback {display: none;}</style><div id=\"sk-container-id-1\" class=\"sk-top-container\"><div class=\"sk-text-repr-fallback\"><pre>DecisionTreeClassifier()</pre><b>In a Jupyter environment, please rerun this cell to show the HTML representation or trust the notebook. <br />On GitHub, the HTML representation is unable to render, please try loading this page with nbviewer.org.</b></div><div class=\"sk-container\" hidden><div class=\"sk-item\"><div class=\"sk-estimator sk-toggleable\"><input class=\"sk-toggleable__control sk-hidden--visually\" id=\"sk-estimator-id-1\" type=\"checkbox\" checked><label for=\"sk-estimator-id-1\" class=\"sk-toggleable__label sk-toggleable__label-arrow\">DecisionTreeClassifier</label><div class=\"sk-toggleable__content\"><pre>DecisionTreeClassifier()</pre></div></div></div></div></div>"
      ],
      "text/plain": [
       "DecisionTreeClassifier()"
      ]
     },
     "execution_count": 236,
     "metadata": {},
     "output_type": "execute_result"
    }
   ],
   "source": [
    "dtc.fit(X_train,y_train)"
   ]
  },
  {
   "cell_type": "code",
   "execution_count": 238,
   "id": "a05c53cf-c38d-43ca-ab43-a26e278e20a4",
   "metadata": {},
   "outputs": [],
   "source": [
    "predict=dtc.predict(X_test)"
   ]
  },
  {
   "cell_type": "code",
   "execution_count": 240,
   "id": "62972e48-449d-4e90-969b-0e5d65e37248",
   "metadata": {},
   "outputs": [],
   "source": [
    "from sklearn.metrics import classification_report,confusion_matrix"
   ]
  },
  {
   "cell_type": "code",
   "execution_count": 242,
   "id": "c4004922-1d74-4de4-a674-397ab4fe5d5b",
   "metadata": {},
   "outputs": [
    {
     "name": "stdout",
     "output_type": "stream",
     "text": [
      "              precision    recall  f1-score   support\n",
      "\n",
      "        1942       0.00      0.00      0.00         1\n",
      "        1943       0.00      0.00      0.00         1\n",
      "        1944       0.00      0.00      0.00         0\n",
      "        1945       0.00      0.00      0.00         1\n",
      "        1946       0.00      0.00      0.00         1\n",
      "        1954       0.00      0.00      0.00         1\n",
      "        1955       1.00      0.50      0.67         2\n",
      "        1956       0.00      0.00      0.00         1\n",
      "        1958       0.00      0.00      0.00         1\n",
      "        1960       0.00      0.00      0.00         1\n",
      "        1962       0.00      0.00      0.00         1\n",
      "        1966       0.00      0.00      0.00         1\n",
      "        1967       0.00      0.00      0.00         1\n",
      "        1968       0.00      0.00      0.00         1\n",
      "        1969       0.00      0.00      0.00         2\n",
      "        1971       0.50      1.00      0.67         1\n",
      "        1972       0.00      0.00      0.00         0\n",
      "        1973       0.00      0.00      0.00         3\n",
      "        1974       0.00      0.00      0.00         3\n",
      "        1975       0.00      0.00      0.00         2\n",
      "        1976       0.00      0.00      0.00         1\n",
      "        1977       0.00      0.00      0.00         1\n",
      "        1978       0.00      0.00      0.00         4\n",
      "        1979       0.00      0.00      0.00         3\n",
      "        1980       0.00      0.00      0.00         4\n",
      "        1981       0.00      0.00      0.00         4\n",
      "        1982       0.00      0.00      0.00         6\n",
      "        1983       0.00      0.00      0.00         1\n",
      "        1984       0.00      0.00      0.00         5\n",
      "        1985       0.00      0.00      0.00         0\n",
      "        1986       0.00      0.00      0.00         7\n",
      "        1987       0.00      0.00      0.00         3\n",
      "        1988       0.00      0.00      0.00         7\n",
      "        1989       0.00      0.00      0.00         4\n",
      "        1990       0.00      0.00      0.00         9\n",
      "        1991       0.00      0.00      0.00         2\n",
      "        1992       0.14      0.14      0.14         7\n",
      "        1993       0.00      0.00      0.00        11\n",
      "        1994       0.00      0.00      0.00         7\n",
      "        1995       0.00      0.00      0.00        10\n",
      "        1996       0.00      0.00      0.00         6\n",
      "        1997       0.00      0.00      0.00        11\n",
      "        1998       0.00      0.00      0.00         8\n",
      "        1999       0.00      0.00      0.00         7\n",
      "        2000       0.00      0.00      0.00         6\n",
      "        2001       0.00      0.00      0.00        15\n",
      "        2002       0.00      0.00      0.00        15\n",
      "        2003       0.04      0.06      0.05        17\n",
      "        2004       0.04      0.05      0.04        21\n",
      "        2005       0.00      0.00      0.00        31\n",
      "        2006       0.00      0.00      0.00        30\n",
      "        2007       0.00      0.00      0.00        19\n",
      "        2008       0.02      0.03      0.02        38\n",
      "        2009       0.05      0.04      0.04        53\n",
      "        2010       0.02      0.01      0.02        69\n",
      "        2011       0.08      0.10      0.09        50\n",
      "        2012       0.12      0.11      0.12        70\n",
      "        2013       0.14      0.16      0.15        97\n",
      "        2014       0.08      0.10      0.09       103\n",
      "        2015       0.19      0.22      0.21       150\n",
      "        2016       0.30      0.29      0.29       287\n",
      "        2017       0.36      0.34      0.35       300\n",
      "        2018       0.43      0.42      0.43       338\n",
      "        2019       0.49      0.45      0.47       326\n",
      "        2020       0.55      0.56      0.56       289\n",
      "        2021       0.56      0.57      0.56       166\n",
      "\n",
      "    accuracy                           0.31      2643\n",
      "   macro avg       0.08      0.08      0.08      2643\n",
      "weighted avg       0.31      0.31      0.31      2643\n",
      "\n"
     ]
    },
    {
     "name": "stderr",
     "output_type": "stream",
     "text": [
      "C:\\Users\\anshm\\AppData\\Roaming\\Python\\Python312\\site-packages\\sklearn\\metrics\\_classification.py:1471: UndefinedMetricWarning: Precision and F-score are ill-defined and being set to 0.0 in labels with no predicted samples. Use `zero_division` parameter to control this behavior.\n",
      "  _warn_prf(average, modifier, msg_start, len(result))\n",
      "C:\\Users\\anshm\\AppData\\Roaming\\Python\\Python312\\site-packages\\sklearn\\metrics\\_classification.py:1471: UndefinedMetricWarning: Recall and F-score are ill-defined and being set to 0.0 in labels with no true samples. Use `zero_division` parameter to control this behavior.\n",
      "  _warn_prf(average, modifier, msg_start, len(result))\n",
      "C:\\Users\\anshm\\AppData\\Roaming\\Python\\Python312\\site-packages\\sklearn\\metrics\\_classification.py:1471: UndefinedMetricWarning: Precision and F-score are ill-defined and being set to 0.0 in labels with no predicted samples. Use `zero_division` parameter to control this behavior.\n",
      "  _warn_prf(average, modifier, msg_start, len(result))\n",
      "C:\\Users\\anshm\\AppData\\Roaming\\Python\\Python312\\site-packages\\sklearn\\metrics\\_classification.py:1471: UndefinedMetricWarning: Recall and F-score are ill-defined and being set to 0.0 in labels with no true samples. Use `zero_division` parameter to control this behavior.\n",
      "  _warn_prf(average, modifier, msg_start, len(result))\n",
      "C:\\Users\\anshm\\AppData\\Roaming\\Python\\Python312\\site-packages\\sklearn\\metrics\\_classification.py:1471: UndefinedMetricWarning: Precision and F-score are ill-defined and being set to 0.0 in labels with no predicted samples. Use `zero_division` parameter to control this behavior.\n",
      "  _warn_prf(average, modifier, msg_start, len(result))\n",
      "C:\\Users\\anshm\\AppData\\Roaming\\Python\\Python312\\site-packages\\sklearn\\metrics\\_classification.py:1471: UndefinedMetricWarning: Recall and F-score are ill-defined and being set to 0.0 in labels with no true samples. Use `zero_division` parameter to control this behavior.\n",
      "  _warn_prf(average, modifier, msg_start, len(result))\n"
     ]
    }
   ],
   "source": [
    "print(classification_report(y_test,predict))"
   ]
  },
  {
   "cell_type": "code",
   "execution_count": 243,
   "id": "b7e84603-193e-4ba7-99e1-0cf39db60c2c",
   "metadata": {},
   "outputs": [
    {
     "name": "stdout",
     "output_type": "stream",
     "text": [
      "[[  0   0   0 ...   0   0   0]\n",
      " [  0   0   0 ...   0   0   0]\n",
      " [  0   0   0 ...   0   0   0]\n",
      " ...\n",
      " [  0   0   0 ... 147  44   8]\n",
      " [  0   0   0 ...  35 163  22]\n",
      " [  0   0   0 ...  12  22  94]]\n"
     ]
    }
   ],
   "source": [
    "print(confusion_matrix(y_test,predict))"
   ]
  },
  {
   "cell_type": "code",
   "execution_count": 244,
   "id": "504276ea-008c-457c-8d56-d0f113ec512a",
   "metadata": {},
   "outputs": [],
   "source": [
    "from sklearn.metrics import accuracy_score"
   ]
  },
  {
   "cell_type": "code",
   "execution_count": 245,
   "id": "601b26ef-a558-45d4-98cc-f0ff17d75038",
   "metadata": {},
   "outputs": [],
   "source": [
    "accuracy=accuracy_score(y_test,predict)"
   ]
  },
  {
   "cell_type": "code",
   "execution_count": 246,
   "id": "4131b85c-0075-4682-96aa-49ce18e71872",
   "metadata": {},
   "outputs": [
    {
     "name": "stdout",
     "output_type": "stream",
     "text": [
      "the accuracy is:-> 0.306848278471434\n"
     ]
    }
   ],
   "source": [
    "print(\"the accuracy is:->\",accuracy)"
   ]
  },
  {
   "cell_type": "code",
   "execution_count": 249,
   "id": "c19a1e8a-9959-4f7c-87e4-847366461dd0",
   "metadata": {},
   "outputs": [
    {
     "name": "stdout",
     "output_type": "stream",
     "text": [
      "Baseline Accuracy: 0.12788497919031402\n"
     ]
    }
   ],
   "source": [
    "baseline_accuracy = y_test.value_counts().max() / len(y_test)\n",
    "\n",
    "print(f\"Baseline Accuracy: {baseline_accuracy}\")"
   ]
  },
  {
   "cell_type": "code",
   "execution_count": 250,
   "id": "955d2e8d-a3c4-4f06-9a97-70efc84c5e26",
   "metadata": {},
   "outputs": [
    {
     "data": {
      "text/html": [
       "<div>\n",
       "<style scoped>\n",
       "    .dataframe tbody tr th:only-of-type {\n",
       "        vertical-align: middle;\n",
       "    }\n",
       "\n",
       "    .dataframe tbody tr th {\n",
       "        vertical-align: top;\n",
       "    }\n",
       "\n",
       "    .dataframe thead th {\n",
       "        text-align: right;\n",
       "    }\n",
       "</style>\n",
       "<table border=\"1\" class=\"dataframe\">\n",
       "  <thead>\n",
       "    <tr style=\"text-align: right;\">\n",
       "      <th></th>\n",
       "      <th>show_id</th>\n",
       "      <th>type</th>\n",
       "      <th>title</th>\n",
       "      <th>director</th>\n",
       "      <th>cast</th>\n",
       "      <th>release_year</th>\n",
       "      <th>rating</th>\n",
       "      <th>duration</th>\n",
       "      <th>listed_in</th>\n",
       "      <th>description</th>\n",
       "      <th>month</th>\n",
       "      <th>Day</th>\n",
       "      <th>year</th>\n",
       "    </tr>\n",
       "  </thead>\n",
       "  <tbody>\n",
       "    <tr>\n",
       "      <th>0</th>\n",
       "      <td>1</td>\n",
       "      <td>0</td>\n",
       "      <td>1973</td>\n",
       "      <td>2295</td>\n",
       "      <td>1699</td>\n",
       "      <td>2020</td>\n",
       "      <td>7</td>\n",
       "      <td>210</td>\n",
       "      <td>274</td>\n",
       "      <td>2577</td>\n",
       "      <td>12</td>\n",
       "      <td>17</td>\n",
       "      <td>13</td>\n",
       "    </tr>\n",
       "    <tr>\n",
       "      <th>1</th>\n",
       "      <td>2</td>\n",
       "      <td>1</td>\n",
       "      <td>1089</td>\n",
       "      <td>3392</td>\n",
       "      <td>409</td>\n",
       "      <td>2021</td>\n",
       "      <td>11</td>\n",
       "      <td>110</td>\n",
       "      <td>414</td>\n",
       "      <td>1762</td>\n",
       "      <td>12</td>\n",
       "      <td>16</td>\n",
       "      <td>13</td>\n",
       "    </tr>\n",
       "    <tr>\n",
       "      <th>2</th>\n",
       "      <td>3</td>\n",
       "      <td>1</td>\n",
       "      <td>2648</td>\n",
       "      <td>2105</td>\n",
       "      <td>6296</td>\n",
       "      <td>2021</td>\n",
       "      <td>11</td>\n",
       "      <td>0</td>\n",
       "      <td>242</td>\n",
       "      <td>7341</td>\n",
       "      <td>12</td>\n",
       "      <td>16</td>\n",
       "      <td>13</td>\n",
       "    </tr>\n",
       "    <tr>\n",
       "      <th>3</th>\n",
       "      <td>4</td>\n",
       "      <td>1</td>\n",
       "      <td>3503</td>\n",
       "      <td>3392</td>\n",
       "      <td>1699</td>\n",
       "      <td>2021</td>\n",
       "      <td>11</td>\n",
       "      <td>0</td>\n",
       "      <td>297</td>\n",
       "      <td>3617</td>\n",
       "      <td>12</td>\n",
       "      <td>16</td>\n",
       "      <td>13</td>\n",
       "    </tr>\n",
       "    <tr>\n",
       "      <th>4</th>\n",
       "      <td>5</td>\n",
       "      <td>1</td>\n",
       "      <td>3858</td>\n",
       "      <td>3392</td>\n",
       "      <td>4815</td>\n",
       "      <td>2021</td>\n",
       "      <td>11</td>\n",
       "      <td>110</td>\n",
       "      <td>393</td>\n",
       "      <td>4416</td>\n",
       "      <td>12</td>\n",
       "      <td>16</td>\n",
       "      <td>13</td>\n",
       "    </tr>\n",
       "  </tbody>\n",
       "</table>\n",
       "</div>"
      ],
      "text/plain": [
       "   show_id  type  title  director  cast  release_year  rating  duration  \\\n",
       "0        1     0   1973      2295  1699          2020       7       210   \n",
       "1        2     1   1089      3392   409          2021      11       110   \n",
       "2        3     1   2648      2105  6296          2021      11         0   \n",
       "3        4     1   3503      3392  1699          2021      11         0   \n",
       "4        5     1   3858      3392  4815          2021      11       110   \n",
       "\n",
       "   listed_in  description  month  Day  year  \n",
       "0        274         2577     12   17    13  \n",
       "1        414         1762     12   16    13  \n",
       "2        242         7341     12   16    13  \n",
       "3        297         3617     12   16    13  \n",
       "4        393         4416     12   16    13  "
      ]
     },
     "execution_count": 250,
     "metadata": {},
     "output_type": "execute_result"
    }
   ],
   "source": [
    "df.head()"
   ]
  },
  {
   "cell_type": "code",
   "execution_count": null,
   "id": "5c888fcd-6c64-4109-8a98-30b85081bb0f",
   "metadata": {},
   "outputs": [],
   "source": []
  }
 ],
 "metadata": {
  "kernelspec": {
   "display_name": "Python 3 (ipykernel)",
   "language": "python",
   "name": "python3"
  },
  "language_info": {
   "codemirror_mode": {
    "name": "ipython",
    "version": 3
   },
   "file_extension": ".py",
   "mimetype": "text/x-python",
   "name": "python",
   "nbconvert_exporter": "python",
   "pygments_lexer": "ipython3",
   "version": "3.12.1"
  }
 },
 "nbformat": 4,
 "nbformat_minor": 5
}
